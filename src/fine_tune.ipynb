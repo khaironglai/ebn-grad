{
 "cells": [
  {
   "cell_type": "markdown",
   "id": "07f24e89",
   "metadata": {},
   "source": [
    "## <span style=\"color:#0b486b\">YOLOv9 model with 50 epochs (Successful implementation)</span> ## \n",
    "***"
   ]
  },
  {
   "cell_type": "markdown",
   "id": "1c2cc075",
   "metadata": {},
   "source": [
    "**Refer or using the model in the folder of train11.** "
   ]
  },
  {
   "cell_type": "code",
   "execution_count": 2,
   "id": "1c45b2b1-53c1-44dd-baba-33d24f58370e",
   "metadata": {},
   "outputs": [
    {
     "name": "stdout",
     "output_type": "stream",
     "text": [
      "New https://pypi.org/project/ultralytics/8.2.56 available 😃 Update with 'pip install -U ultralytics'\n",
      "Ultralytics YOLOv8.1.34 🚀 Python-3.9.16 torch-2.0.1 CPU (Apple M1 Pro)\n",
      "\u001b[34m\u001b[1mengine/trainer: \u001b[0mtask=detect, mode=train, model=yolov8n.pt, data=/Users/tanjiunkoon/Downloads/Others/yolov10/yolov10/Training BirdNest /data.yaml, epochs=50, time=None, patience=100, batch=16, imgsz=640, save=True, save_period=-1, val_period=1, cache=False, device=None, workers=8, project=None, name=train11, exist_ok=False, pretrained=True, optimizer=auto, verbose=True, seed=0, deterministic=True, single_cls=False, rect=False, cos_lr=False, close_mosaic=10, resume=False, amp=True, fraction=1.0, profile=False, freeze=None, multi_scale=False, overlap_mask=True, mask_ratio=4, dropout=0.0, val=True, split=val, save_json=False, save_hybrid=False, conf=None, iou=0.7, max_det=300, half=False, dnn=False, plots=True, source=None, vid_stride=1, stream_buffer=False, visualize=False, augment=False, agnostic_nms=False, classes=None, retina_masks=False, embed=None, show=False, save_frames=False, save_txt=False, save_conf=False, save_crop=False, show_labels=True, show_conf=True, show_boxes=True, line_width=None, format=torchscript, keras=False, optimize=False, int8=False, dynamic=False, simplify=False, opset=None, workspace=4, nms=False, lr0=0.01, lrf=0.01, momentum=0.937, weight_decay=0.0005, warmup_epochs=3.0, warmup_momentum=0.8, warmup_bias_lr=0.1, box=7.5, cls=0.5, dfl=1.5, pose=12.0, kobj=1.0, label_smoothing=0.0, nbs=64, hsv_h=0.015, hsv_s=0.7, hsv_v=0.4, degrees=0.0, translate=0.1, scale=0.5, shear=0.0, perspective=0.0, flipud=0.0, fliplr=0.5, bgr=0.0, mosaic=1.0, mixup=0.0, copy_paste=0.0, auto_augment=randaugment, erasing=0.4, crop_fraction=1.0, cfg=None, tracker=botsort.yaml, save_dir=runs/detect/train11\n",
      "Overriding model.yaml nc=80 with nc=3\n",
      "\n",
      "                   from  n    params  module                                       arguments                     \n",
      "  0                  -1  1       464  ultralytics.nn.modules.conv.Conv             [3, 16, 3, 2]                 \n",
      "  1                  -1  1      4672  ultralytics.nn.modules.conv.Conv             [16, 32, 3, 2]                \n",
      "  2                  -1  1      7360  ultralytics.nn.modules.block.C2f             [32, 32, 1, True]             \n",
      "  3                  -1  1     18560  ultralytics.nn.modules.conv.Conv             [32, 64, 3, 2]                \n",
      "  4                  -1  2     49664  ultralytics.nn.modules.block.C2f             [64, 64, 2, True]             \n",
      "  5                  -1  1     73984  ultralytics.nn.modules.conv.Conv             [64, 128, 3, 2]               \n",
      "  6                  -1  2    197632  ultralytics.nn.modules.block.C2f             [128, 128, 2, True]           \n",
      "  7                  -1  1    295424  ultralytics.nn.modules.conv.Conv             [128, 256, 3, 2]              \n",
      "  8                  -1  1    460288  ultralytics.nn.modules.block.C2f             [256, 256, 1, True]           \n",
      "  9                  -1  1    164608  ultralytics.nn.modules.block.SPPF            [256, 256, 5]                 \n",
      " 10                  -1  1         0  torch.nn.modules.upsampling.Upsample         [None, 2, 'nearest']          \n",
      " 11             [-1, 6]  1         0  ultralytics.nn.modules.conv.Concat           [1]                           \n",
      " 12                  -1  1    148224  ultralytics.nn.modules.block.C2f             [384, 128, 1]                 \n",
      " 13                  -1  1         0  torch.nn.modules.upsampling.Upsample         [None, 2, 'nearest']          \n",
      " 14             [-1, 4]  1         0  ultralytics.nn.modules.conv.Concat           [1]                           \n",
      " 15                  -1  1     37248  ultralytics.nn.modules.block.C2f             [192, 64, 1]                  \n",
      " 16                  -1  1     36992  ultralytics.nn.modules.conv.Conv             [64, 64, 3, 2]                \n",
      " 17            [-1, 12]  1         0  ultralytics.nn.modules.conv.Concat           [1]                           \n",
      " 18                  -1  1    123648  ultralytics.nn.modules.block.C2f             [192, 128, 1]                 \n",
      " 19                  -1  1    147712  ultralytics.nn.modules.conv.Conv             [128, 128, 3, 2]              \n",
      " 20             [-1, 9]  1         0  ultralytics.nn.modules.conv.Concat           [1]                           \n",
      " 21                  -1  1    493056  ultralytics.nn.modules.block.C2f             [384, 256, 1]                 \n",
      " 22        [15, 18, 21]  1    751897  ultralytics.nn.modules.head.Detect           [3, [64, 128, 256]]           \n",
      "Model summary: 225 layers, 3011433 parameters, 3011417 gradients, 8.2 GFLOPs\n",
      "\n",
      "Transferred 319/355 items from pretrained weights\n",
      "\u001b[34m\u001b[1mTensorBoard: \u001b[0mStart with 'tensorboard --logdir runs/detect/train11', view at http://localhost:6006/\n",
      "Freezing layer 'model.22.dfl.conv.weight'\n"
     ]
    },
    {
     "name": "stderr",
     "output_type": "stream",
     "text": [
      "\u001b[34m\u001b[1mtrain: \u001b[0mScanning /Users/tanjiunkoon/Downloads/Others/yolov10/yolov10/Training Bir\u001b[0m\n",
      "\u001b[34m\u001b[1mval: \u001b[0mScanning /Users/tanjiunkoon/Downloads/Others/yolov10/yolov10/Training BirdN\u001b[0m"
     ]
    },
    {
     "name": "stdout",
     "output_type": "stream",
     "text": [
      "Plotting labels to runs/detect/train11/labels.jpg... \n"
     ]
    },
    {
     "name": "stderr",
     "output_type": "stream",
     "text": [
      "\n"
     ]
    },
    {
     "name": "stdout",
     "output_type": "stream",
     "text": [
      "\u001b[34m\u001b[1moptimizer:\u001b[0m 'optimizer=auto' found, ignoring 'lr0=0.01' and 'momentum=0.937' and determining best 'optimizer', 'lr0' and 'momentum' automatically... \n",
      "\u001b[34m\u001b[1moptimizer:\u001b[0m AdamW(lr=0.001429, momentum=0.9) with parameter groups 57 weight(decay=0.0), 64 weight(decay=0.0005), 63 bias(decay=0.0)\n",
      "\u001b[34m\u001b[1mTensorBoard: \u001b[0mmodel graph visualization added ✅\n",
      "Image sizes 640 train, 640 val\n",
      "Using 0 dataloader workers\n",
      "Logging results to \u001b[1mruns/detect/train11\u001b[0m\n",
      "Starting training for 50 epochs...\n",
      "\n",
      "      Epoch    GPU_mem   box_loss   cls_loss   dfl_loss  Instances       Size\n"
     ]
    },
    {
     "name": "stderr",
     "output_type": "stream",
     "text": [
      "       1/50         0G     0.6965      2.141      1.238          7        640: 1\n",
      "                 Class     Images  Instances      Box(P          R      mAP50  m"
     ]
    },
    {
     "name": "stdout",
     "output_type": "stream",
     "text": [
      "                   all         44         44      0.363      0.814       0.49      0.409\n"
     ]
    },
    {
     "name": "stderr",
     "output_type": "stream",
     "text": [
      "\n"
     ]
    },
    {
     "name": "stdout",
     "output_type": "stream",
     "text": [
      "\n",
      "      Epoch    GPU_mem   box_loss   cls_loss   dfl_loss  Instances       Size\n"
     ]
    },
    {
     "name": "stderr",
     "output_type": "stream",
     "text": [
      "       2/50         0G     0.7282      1.679      1.234          8        640: 1\n",
      "                 Class     Images  Instances      Box(P          R      mAP50  m"
     ]
    },
    {
     "name": "stdout",
     "output_type": "stream",
     "text": [
      "                   all         44         44      0.367      0.773      0.561      0.389\n",
      "\n",
      "      Epoch    GPU_mem   box_loss   cls_loss   dfl_loss  Instances       Size\n"
     ]
    },
    {
     "name": "stderr",
     "output_type": "stream",
     "text": [
      "\n",
      "       3/50         0G     0.7308      1.501      1.232          6        640: 1\n",
      "                 Class     Images  Instances      Box(P          R      mAP50  m"
     ]
    },
    {
     "name": "stdout",
     "output_type": "stream",
     "text": [
      "                   all         44         44      0.411      0.715      0.471      0.388\n",
      "\n",
      "      Epoch    GPU_mem   box_loss   cls_loss   dfl_loss  Instances       Size\n"
     ]
    },
    {
     "name": "stderr",
     "output_type": "stream",
     "text": [
      "\n",
      "       4/50         0G     0.7247      1.413      1.214         12        640: 1\n",
      "                 Class     Images  Instances      Box(P          R      mAP50  m"
     ]
    },
    {
     "name": "stdout",
     "output_type": "stream",
     "text": [
      "                   all         44         44      0.296      0.732      0.467      0.305\n",
      "\n",
      "      Epoch    GPU_mem   box_loss   cls_loss   dfl_loss  Instances       Size\n"
     ]
    },
    {
     "name": "stderr",
     "output_type": "stream",
     "text": [
      "\n",
      "       5/50         0G     0.7534      1.337      1.246          7        640: 1\n",
      "                 Class     Images  Instances      Box(P          R      mAP50  m"
     ]
    },
    {
     "name": "stdout",
     "output_type": "stream",
     "text": [
      "                   all         44         44      0.327      0.691      0.458      0.368\n",
      "\n",
      "      Epoch    GPU_mem   box_loss   cls_loss   dfl_loss  Instances       Size\n"
     ]
    },
    {
     "name": "stderr",
     "output_type": "stream",
     "text": [
      "\n",
      "       6/50         0G     0.6915      1.244      1.183         12        640: 1\n",
      "                 Class     Images  Instances      Box(P          R      mAP50  m"
     ]
    },
    {
     "name": "stdout",
     "output_type": "stream",
     "text": [
      "                   all         44         44      0.462      0.724      0.616      0.498\n"
     ]
    },
    {
     "name": "stderr",
     "output_type": "stream",
     "text": [
      "\n"
     ]
    },
    {
     "name": "stdout",
     "output_type": "stream",
     "text": [
      "\n",
      "      Epoch    GPU_mem   box_loss   cls_loss   dfl_loss  Instances       Size\n"
     ]
    },
    {
     "name": "stderr",
     "output_type": "stream",
     "text": [
      "       7/50         0G     0.6693      1.166      1.173          9        640: 1\n",
      "                 Class     Images  Instances      Box(P          R      mAP50  m"
     ]
    },
    {
     "name": "stdout",
     "output_type": "stream",
     "text": [
      "                   all         44         44      0.288      0.626      0.373      0.325\n",
      "\n",
      "      Epoch    GPU_mem   box_loss   cls_loss   dfl_loss  Instances       Size\n"
     ]
    },
    {
     "name": "stderr",
     "output_type": "stream",
     "text": [
      "\n",
      "       8/50         0G     0.6226      1.134      1.144          8        640: 1\n",
      "                 Class     Images  Instances      Box(P          R      mAP50  m"
     ]
    },
    {
     "name": "stdout",
     "output_type": "stream",
     "text": [
      "                   all         44         44      0.339      0.905      0.512      0.441\n",
      "\n",
      "      Epoch    GPU_mem   box_loss   cls_loss   dfl_loss  Instances       Size\n"
     ]
    },
    {
     "name": "stderr",
     "output_type": "stream",
     "text": [
      "\n",
      "       9/50         0G     0.6684      1.136      1.181          8        640: 1\n",
      "                 Class     Images  Instances      Box(P          R      mAP50  m"
     ]
    },
    {
     "name": "stdout",
     "output_type": "stream",
     "text": [
      "                   all         44         44      0.357      0.808      0.488      0.426\n",
      "\n",
      "      Epoch    GPU_mem   box_loss   cls_loss   dfl_loss  Instances       Size\n"
     ]
    },
    {
     "name": "stderr",
     "output_type": "stream",
     "text": [
      "\n",
      "      10/50         0G     0.6128      1.075      1.139          7        640: 1\n",
      "                 Class     Images  Instances      Box(P          R      mAP50  m"
     ]
    },
    {
     "name": "stdout",
     "output_type": "stream",
     "text": [
      "                   all         44         44      0.438      0.926      0.607      0.533\n",
      "\n",
      "      Epoch    GPU_mem   box_loss   cls_loss   dfl_loss  Instances       Size\n"
     ]
    },
    {
     "name": "stderr",
     "output_type": "stream",
     "text": [
      "\n",
      "      11/50         0G     0.6109      1.045      1.142          4        640: 1\n",
      "                 Class     Images  Instances      Box(P          R      mAP50  m"
     ]
    },
    {
     "name": "stdout",
     "output_type": "stream",
     "text": [
      "                   all         44         44      0.503      0.699      0.672       0.53\n",
      "\n",
      "      Epoch    GPU_mem   box_loss   cls_loss   dfl_loss  Instances       Size\n"
     ]
    },
    {
     "name": "stderr",
     "output_type": "stream",
     "text": [
      "\n",
      "      12/50         0G     0.5985      1.022      1.131          7        640: 1\n",
      "                 Class     Images  Instances      Box(P          R      mAP50  m"
     ]
    },
    {
     "name": "stdout",
     "output_type": "stream",
     "text": [
      "                   all         44         44      0.489      0.836      0.666      0.604\n",
      "\n",
      "      Epoch    GPU_mem   box_loss   cls_loss   dfl_loss  Instances       Size\n"
     ]
    },
    {
     "name": "stderr",
     "output_type": "stream",
     "text": [
      "\n",
      "      13/50         0G     0.5853      1.005       1.13         10        640: 1\n",
      "                 Class     Images  Instances      Box(P          R      mAP50  m"
     ]
    },
    {
     "name": "stdout",
     "output_type": "stream",
     "text": [
      "                   all         44         44      0.485      0.699      0.656      0.606\n",
      "\n",
      "      Epoch    GPU_mem   box_loss   cls_loss   dfl_loss  Instances       Size\n"
     ]
    },
    {
     "name": "stderr",
     "output_type": "stream",
     "text": [
      "\n",
      "      14/50         0G     0.5696     0.9717      1.112          8        640: 1\n",
      "                 Class     Images  Instances      Box(P          R      mAP50  m"
     ]
    },
    {
     "name": "stdout",
     "output_type": "stream",
     "text": [
      "                   all         44         44      0.432       0.84      0.619      0.562\n"
     ]
    },
    {
     "name": "stderr",
     "output_type": "stream",
     "text": [
      "\n"
     ]
    },
    {
     "name": "stdout",
     "output_type": "stream",
     "text": [
      "\n",
      "      Epoch    GPU_mem   box_loss   cls_loss   dfl_loss  Instances       Size\n"
     ]
    },
    {
     "name": "stderr",
     "output_type": "stream",
     "text": [
      "      15/50         0G      0.594     0.9835      1.131          7        640: 1\n",
      "                 Class     Images  Instances      Box(P          R      mAP50  m"
     ]
    },
    {
     "name": "stdout",
     "output_type": "stream",
     "text": [
      "                   all         44         44      0.517      0.902      0.665      0.629\n",
      "\n",
      "      Epoch    GPU_mem   box_loss   cls_loss   dfl_loss  Instances       Size\n"
     ]
    },
    {
     "name": "stderr",
     "output_type": "stream",
     "text": [
      "\n",
      "      16/50         0G       0.56     0.9133      1.105         10        640: 1\n",
      "                 Class     Images  Instances      Box(P          R      mAP50  m"
     ]
    },
    {
     "name": "stdout",
     "output_type": "stream",
     "text": [
      "                   all         44         44      0.478      0.798      0.619      0.577\n",
      "\n",
      "      Epoch    GPU_mem   box_loss   cls_loss   dfl_loss  Instances       Size\n"
     ]
    },
    {
     "name": "stderr",
     "output_type": "stream",
     "text": [
      "\n",
      "      17/50         0G      0.562     0.9438      1.109          7        640: 1\n",
      "                 Class     Images  Instances      Box(P          R      mAP50  m"
     ]
    },
    {
     "name": "stdout",
     "output_type": "stream",
     "text": [
      "                   all         44         44      0.467      0.803      0.653      0.596\n",
      "\n",
      "      Epoch    GPU_mem   box_loss   cls_loss   dfl_loss  Instances       Size\n"
     ]
    },
    {
     "name": "stderr",
     "output_type": "stream",
     "text": [
      "\n",
      "      18/50         0G     0.5401     0.8959      1.097          7        640: 1\n",
      "                 Class     Images  Instances      Box(P          R      mAP50  m"
     ]
    },
    {
     "name": "stdout",
     "output_type": "stream",
     "text": [
      "                   all         44         44      0.575      0.895      0.697       0.65\n",
      "\n",
      "      Epoch    GPU_mem   box_loss   cls_loss   dfl_loss  Instances       Size\n"
     ]
    },
    {
     "name": "stderr",
     "output_type": "stream",
     "text": [
      "\n",
      "      19/50         0G     0.5435     0.9023      1.102         10        640: 1\n",
      "                 Class     Images  Instances      Box(P          R      mAP50  m"
     ]
    },
    {
     "name": "stdout",
     "output_type": "stream",
     "text": [
      "                   all         44         44      0.486      0.823      0.631      0.574\n",
      "\n",
      "      Epoch    GPU_mem   box_loss   cls_loss   dfl_loss  Instances       Size\n"
     ]
    },
    {
     "name": "stderr",
     "output_type": "stream",
     "text": [
      "\n",
      "      20/50         0G     0.5292     0.8793      1.084         10        640: 1\n",
      "                 Class     Images  Instances      Box(P          R      mAP50  m"
     ]
    },
    {
     "name": "stdout",
     "output_type": "stream",
     "text": [
      "                   all         44         44      0.495      0.806      0.616      0.589\n",
      "\n",
      "      Epoch    GPU_mem   box_loss   cls_loss   dfl_loss  Instances       Size\n"
     ]
    },
    {
     "name": "stderr",
     "output_type": "stream",
     "text": [
      "\n",
      "      21/50         0G     0.5312     0.8685      1.093          7        640: 1\n",
      "                 Class     Images  Instances      Box(P          R      mAP50  m"
     ]
    },
    {
     "name": "stdout",
     "output_type": "stream",
     "text": [
      "                   all         44         44      0.568      0.773      0.663       0.64\n",
      "\n",
      "      Epoch    GPU_mem   box_loss   cls_loss   dfl_loss  Instances       Size\n"
     ]
    },
    {
     "name": "stderr",
     "output_type": "stream",
     "text": [
      "\n",
      "      22/50         0G     0.5229     0.8595      1.084          7        640: 1\n",
      "                 Class     Images  Instances      Box(P          R      mAP50  m"
     ]
    },
    {
     "name": "stdout",
     "output_type": "stream",
     "text": [
      "                   all         44         44      0.465      0.791      0.633       0.61\n",
      "\n",
      "      Epoch    GPU_mem   box_loss   cls_loss   dfl_loss  Instances       Size\n"
     ]
    },
    {
     "name": "stderr",
     "output_type": "stream",
     "text": [
      "\n",
      "      23/50         0G     0.5344     0.8383      1.093         10        640: 1\n",
      "                 Class     Images  Instances      Box(P          R      mAP50  m"
     ]
    },
    {
     "name": "stdout",
     "output_type": "stream",
     "text": [
      "                   all         44         44      0.674      0.574      0.669      0.627\n"
     ]
    },
    {
     "name": "stderr",
     "output_type": "stream",
     "text": [
      "\n"
     ]
    },
    {
     "name": "stdout",
     "output_type": "stream",
     "text": [
      "\n",
      "      Epoch    GPU_mem   box_loss   cls_loss   dfl_loss  Instances       Size\n"
     ]
    },
    {
     "name": "stderr",
     "output_type": "stream",
     "text": [
      "      24/50         0G     0.5058      0.818      1.076          6        640: 1\n",
      "                 Class     Images  Instances      Box(P          R      mAP50  m"
     ]
    },
    {
     "name": "stdout",
     "output_type": "stream",
     "text": [
      "                   all         44         44      0.473      0.872      0.584      0.552\n",
      "\n",
      "      Epoch    GPU_mem   box_loss   cls_loss   dfl_loss  Instances       Size\n"
     ]
    },
    {
     "name": "stderr",
     "output_type": "stream",
     "text": [
      "\n",
      "      25/50         0G     0.4883     0.7975      1.055         10        640: 1\n",
      "                 Class     Images  Instances      Box(P          R      mAP50  m"
     ]
    },
    {
     "name": "stdout",
     "output_type": "stream",
     "text": [
      "                   all         44         44       0.55      0.836      0.724      0.682\n",
      "\n",
      "      Epoch    GPU_mem   box_loss   cls_loss   dfl_loss  Instances       Size\n"
     ]
    },
    {
     "name": "stderr",
     "output_type": "stream",
     "text": [
      "\n",
      "      26/50         0G     0.4924     0.7893      1.064          8        640: 1\n",
      "                 Class     Images  Instances      Box(P          R      mAP50  m"
     ]
    },
    {
     "name": "stdout",
     "output_type": "stream",
     "text": [
      "                   all         44         44      0.473      0.852      0.653      0.624\n",
      "\n",
      "      Epoch    GPU_mem   box_loss   cls_loss   dfl_loss  Instances       Size\n"
     ]
    },
    {
     "name": "stderr",
     "output_type": "stream",
     "text": [
      "\n",
      "      27/50         0G     0.5116     0.7883      1.079          7        640: 1\n",
      "                 Class     Images  Instances      Box(P          R      mAP50  m"
     ]
    },
    {
     "name": "stdout",
     "output_type": "stream",
     "text": [
      "                   all         44         44      0.586      0.798      0.713      0.693\n",
      "\n",
      "      Epoch    GPU_mem   box_loss   cls_loss   dfl_loss  Instances       Size\n"
     ]
    },
    {
     "name": "stderr",
     "output_type": "stream",
     "text": [
      "\n",
      "      28/50         0G     0.4994     0.7485       1.06          7        640: 1\n",
      "                 Class     Images  Instances      Box(P          R      mAP50  m"
     ]
    },
    {
     "name": "stdout",
     "output_type": "stream",
     "text": [
      "                   all         44         44      0.654       0.76      0.753       0.72\n",
      "\n",
      "      Epoch    GPU_mem   box_loss   cls_loss   dfl_loss  Instances       Size\n"
     ]
    },
    {
     "name": "stderr",
     "output_type": "stream",
     "text": [
      "\n",
      "      29/50         0G     0.5051     0.7576      1.071         10        640: 1\n",
      "                 Class     Images  Instances      Box(P          R      mAP50  m"
     ]
    },
    {
     "name": "stdout",
     "output_type": "stream",
     "text": [
      "                   all         44         44      0.551       0.81      0.675      0.644\n",
      "\n",
      "      Epoch    GPU_mem   box_loss   cls_loss   dfl_loss  Instances       Size\n"
     ]
    },
    {
     "name": "stderr",
     "output_type": "stream",
     "text": [
      "\n",
      "      30/50         0G     0.4811      0.729      1.062          5        640: 1\n",
      "                 Class     Images  Instances      Box(P          R      mAP50  m"
     ]
    },
    {
     "name": "stdout",
     "output_type": "stream",
     "text": [
      "                   all         44         44      0.714      0.648      0.649       0.62\n",
      "\n",
      "      Epoch    GPU_mem   box_loss   cls_loss   dfl_loss  Instances       Size\n"
     ]
    },
    {
     "name": "stderr",
     "output_type": "stream",
     "text": [
      "\n",
      "      31/50         0G     0.4872     0.7532      1.061         10        640: 1\n",
      "                 Class     Images  Instances      Box(P          R      mAP50  m"
     ]
    },
    {
     "name": "stdout",
     "output_type": "stream",
     "text": [
      "                   all         44         44      0.592      0.847      0.701      0.661\n",
      "\n",
      "      Epoch    GPU_mem   box_loss   cls_loss   dfl_loss  Instances       Size\n"
     ]
    },
    {
     "name": "stderr",
     "output_type": "stream",
     "text": [
      "\n",
      "      32/50         0G     0.4733     0.7186      1.055          8        640: 1\n",
      "                 Class     Images  Instances      Box(P          R      mAP50  m"
     ]
    },
    {
     "name": "stdout",
     "output_type": "stream",
     "text": [
      "                   all         44         44      0.527      0.838      0.694      0.626\n"
     ]
    },
    {
     "name": "stderr",
     "output_type": "stream",
     "text": [
      "\n"
     ]
    },
    {
     "name": "stdout",
     "output_type": "stream",
     "text": [
      "\n",
      "      Epoch    GPU_mem   box_loss   cls_loss   dfl_loss  Instances       Size\n"
     ]
    },
    {
     "name": "stderr",
     "output_type": "stream",
     "text": [
      "      33/50         0G     0.4656     0.6833      1.061          8        640: 1\n",
      "                 Class     Images  Instances      Box(P          R      mAP50  m"
     ]
    },
    {
     "name": "stdout",
     "output_type": "stream",
     "text": [
      "                   all         44         44      0.578      0.842      0.787      0.752\n",
      "\n",
      "      Epoch    GPU_mem   box_loss   cls_loss   dfl_loss  Instances       Size\n"
     ]
    },
    {
     "name": "stderr",
     "output_type": "stream",
     "text": [
      "\n",
      "      34/50         0G     0.4826     0.6735      1.067          4        640: 1\n",
      "                 Class     Images  Instances      Box(P          R      mAP50  m"
     ]
    },
    {
     "name": "stdout",
     "output_type": "stream",
     "text": [
      "                   all         44         44       0.67      0.584      0.671      0.647\n",
      "\n",
      "      Epoch    GPU_mem   box_loss   cls_loss   dfl_loss  Instances       Size\n"
     ]
    },
    {
     "name": "stderr",
     "output_type": "stream",
     "text": [
      "\n",
      "      35/50         0G     0.4598     0.6746      1.042         10        640: 1\n",
      "                 Class     Images  Instances      Box(P          R      mAP50  m"
     ]
    },
    {
     "name": "stdout",
     "output_type": "stream",
     "text": [
      "                   all         44         44      0.538      0.779      0.617      0.586\n",
      "\n",
      "      Epoch    GPU_mem   box_loss   cls_loss   dfl_loss  Instances       Size\n"
     ]
    },
    {
     "name": "stderr",
     "output_type": "stream",
     "text": [
      "\n",
      "      36/50         0G     0.4669     0.6593      1.054          4        640: 1\n",
      "                 Class     Images  Instances      Box(P          R      mAP50  m"
     ]
    },
    {
     "name": "stdout",
     "output_type": "stream",
     "text": [
      "                   all         44         44      0.528      0.739      0.648      0.625\n",
      "\n",
      "      Epoch    GPU_mem   box_loss   cls_loss   dfl_loss  Instances       Size\n"
     ]
    },
    {
     "name": "stderr",
     "output_type": "stream",
     "text": [
      "\n",
      "      37/50         0G       0.47     0.6487      1.057          9        640: 1\n",
      "                 Class     Images  Instances      Box(P          R      mAP50  m"
     ]
    },
    {
     "name": "stdout",
     "output_type": "stream",
     "text": [
      "                   all         44         44      0.536      0.884      0.758      0.734\n",
      "\n",
      "      Epoch    GPU_mem   box_loss   cls_loss   dfl_loss  Instances       Size\n"
     ]
    },
    {
     "name": "stderr",
     "output_type": "stream",
     "text": [
      "\n",
      "      38/50         0G     0.4737     0.6391       1.06          6        640: 1\n",
      "                 Class     Images  Instances      Box(P          R      mAP50  m"
     ]
    },
    {
     "name": "stdout",
     "output_type": "stream",
     "text": [
      "                   all         44         44      0.694      0.856      0.783      0.752\n",
      "\n",
      "      Epoch    GPU_mem   box_loss   cls_loss   dfl_loss  Instances       Size\n"
     ]
    },
    {
     "name": "stderr",
     "output_type": "stream",
     "text": [
      "\n",
      "      39/50         0G     0.4416     0.6357      1.037          5        640: 1\n",
      "                 Class     Images  Instances      Box(P          R      mAP50  m"
     ]
    },
    {
     "name": "stdout",
     "output_type": "stream",
     "text": [
      "                   all         44         44      0.759      0.707      0.776      0.757\n",
      "\n",
      "      Epoch    GPU_mem   box_loss   cls_loss   dfl_loss  Instances       Size\n"
     ]
    },
    {
     "name": "stderr",
     "output_type": "stream",
     "text": [
      "\n",
      "      40/50         0G     0.4351     0.6092      1.039          5        640: 1\n",
      "                 Class     Images  Instances      Box(P          R      mAP50  m"
     ]
    },
    {
     "name": "stdout",
     "output_type": "stream",
     "text": [
      "                   all         44         44      0.616      0.955      0.832      0.801\n"
     ]
    },
    {
     "name": "stderr",
     "output_type": "stream",
     "text": [
      "\n"
     ]
    },
    {
     "name": "stdout",
     "output_type": "stream",
     "text": [
      "Closing dataloader mosaic\n",
      "\n",
      "      Epoch    GPU_mem   box_loss   cls_loss   dfl_loss  Instances       Size\n"
     ]
    },
    {
     "name": "stderr",
     "output_type": "stream",
     "text": [
      "      41/50         0G     0.2506     0.4725     0.8999          3        640: 1\n",
      "                 Class     Images  Instances      Box(P          R      mAP50  m"
     ]
    },
    {
     "name": "stdout",
     "output_type": "stream",
     "text": [
      "                   all         44         44      0.596      0.852      0.778      0.758\n",
      "\n",
      "      Epoch    GPU_mem   box_loss   cls_loss   dfl_loss  Instances       Size\n"
     ]
    },
    {
     "name": "stderr",
     "output_type": "stream",
     "text": [
      "\n",
      "      42/50         0G     0.2346     0.4354     0.8862          3        640: 1\n",
      "                 Class     Images  Instances      Box(P          R      mAP50  m"
     ]
    },
    {
     "name": "stdout",
     "output_type": "stream",
     "text": [
      "                   all         44         44      0.624      0.859       0.75      0.737\n",
      "\n",
      "      Epoch    GPU_mem   box_loss   cls_loss   dfl_loss  Instances       Size\n"
     ]
    },
    {
     "name": "stderr",
     "output_type": "stream",
     "text": [
      "\n",
      "      43/50         0G     0.2261     0.4143      0.879          3        640: 1\n",
      "                 Class     Images  Instances      Box(P          R      mAP50  m"
     ]
    },
    {
     "name": "stdout",
     "output_type": "stream",
     "text": [
      "                   all         44         44      0.666      0.829      0.819      0.794\n",
      "\n",
      "      Epoch    GPU_mem   box_loss   cls_loss   dfl_loss  Instances       Size\n"
     ]
    },
    {
     "name": "stderr",
     "output_type": "stream",
     "text": [
      "\n",
      "      44/50         0G     0.2289     0.4008     0.8859          3        640: 1\n",
      "                 Class     Images  Instances      Box(P          R      mAP50  m"
     ]
    },
    {
     "name": "stdout",
     "output_type": "stream",
     "text": [
      "                   all         44         44      0.667      0.817      0.784      0.767\n",
      "\n",
      "      Epoch    GPU_mem   box_loss   cls_loss   dfl_loss  Instances       Size\n"
     ]
    },
    {
     "name": "stderr",
     "output_type": "stream",
     "text": [
      "\n",
      "      45/50         0G     0.2184     0.3735     0.8749          3        640: 1\n",
      "                 Class     Images  Instances      Box(P          R      mAP50  m"
     ]
    },
    {
     "name": "stdout",
     "output_type": "stream",
     "text": [
      "                   all         44         44      0.581      0.869      0.727      0.715\n",
      "\n",
      "      Epoch    GPU_mem   box_loss   cls_loss   dfl_loss  Instances       Size\n"
     ]
    },
    {
     "name": "stderr",
     "output_type": "stream",
     "text": [
      "\n",
      "      46/50         0G      0.218     0.3264     0.8831          3        640: 1\n",
      "                 Class     Images  Instances      Box(P          R      mAP50  m"
     ]
    },
    {
     "name": "stdout",
     "output_type": "stream",
     "text": [
      "                   all         44         44       0.64      0.831      0.737       0.72\n",
      "\n",
      "      Epoch    GPU_mem   box_loss   cls_loss   dfl_loss  Instances       Size\n"
     ]
    },
    {
     "name": "stderr",
     "output_type": "stream",
     "text": [
      "\n",
      "      47/50         0G     0.2125     0.3151     0.8784          3        640: 1\n",
      "                 Class     Images  Instances      Box(P          R      mAP50  m"
     ]
    },
    {
     "name": "stdout",
     "output_type": "stream",
     "text": [
      "                   all         44         44      0.692      0.909      0.817      0.805\n",
      "\n",
      "      Epoch    GPU_mem   box_loss   cls_loss   dfl_loss  Instances       Size\n"
     ]
    },
    {
     "name": "stderr",
     "output_type": "stream",
     "text": [
      "\n",
      "      48/50         0G     0.2043     0.3538     0.8646          3        640: 1\n",
      "                 Class     Images  Instances      Box(P          R      mAP50  m"
     ]
    },
    {
     "name": "stdout",
     "output_type": "stream",
     "text": [
      "                   all         44         44      0.691      0.806      0.777      0.755\n",
      "\n",
      "      Epoch    GPU_mem   box_loss   cls_loss   dfl_loss  Instances       Size\n"
     ]
    },
    {
     "name": "stderr",
     "output_type": "stream",
     "text": [
      "\n",
      "      49/50         0G     0.2022     0.2952     0.8513          3        640: 1\n",
      "                 Class     Images  Instances      Box(P          R      mAP50  m"
     ]
    },
    {
     "name": "stdout",
     "output_type": "stream",
     "text": [
      "                   all         44         44      0.709      0.736      0.811      0.801\n"
     ]
    },
    {
     "name": "stderr",
     "output_type": "stream",
     "text": [
      "\n"
     ]
    },
    {
     "name": "stdout",
     "output_type": "stream",
     "text": [
      "\n",
      "      Epoch    GPU_mem   box_loss   cls_loss   dfl_loss  Instances       Size\n"
     ]
    },
    {
     "name": "stderr",
     "output_type": "stream",
     "text": [
      "      50/50         0G     0.1949     0.2548     0.8584          3        640: 1\n",
      "                 Class     Images  Instances      Box(P          R      mAP50  m"
     ]
    },
    {
     "name": "stdout",
     "output_type": "stream",
     "text": [
      "                   all         44         44      0.682      0.875      0.802      0.784\n",
      "\n",
      "50 epochs completed in 5.238 hours.\n",
      "Optimizer stripped from runs/detect/train11/weights/last.pt, 6.2MB\n"
     ]
    },
    {
     "name": "stderr",
     "output_type": "stream",
     "text": [
      "\n"
     ]
    },
    {
     "name": "stdout",
     "output_type": "stream",
     "text": [
      "Optimizer stripped from runs/detect/train11/weights/best.pt, 6.2MB\n",
      "\n",
      "Validating runs/detect/train11/weights/best.pt...\n",
      "Ultralytics YOLOv8.1.34 🚀 Python-3.9.16 torch-2.0.1 CPU (Apple M1 Pro)\n",
      "Model summary (fused): 168 layers, 3006233 parameters, 0 gradients, 8.1 GFLOPs\n"
     ]
    },
    {
     "name": "stderr",
     "output_type": "stream",
     "text": [
      "                 Class     Images  Instances      Box(P          R      mAP50  m\n"
     ]
    },
    {
     "name": "stdout",
     "output_type": "stream",
     "text": [
      "                   all         44         44      0.689      0.908      0.817      0.805\n",
      "               Grade A         44          8      0.606          1      0.884      0.867\n",
      "               Grade B         44          9        0.7      0.776      0.633      0.625\n",
      "               Grade C         44         27      0.762      0.949      0.935      0.924\n",
      "Speed: 1.0ms preprocess, 98.4ms inference, 0.0ms loss, 0.2ms postprocess per image\n",
      "Results saved to \u001b[1mruns/detect/train11\u001b[0m\n",
      "Ultralytics YOLOv8.1.34 🚀 Python-3.9.16 torch-2.0.1 CPU (Apple M1 Pro)\n",
      "Model summary (fused): 168 layers, 3006233 parameters, 0 gradients, 8.1 GFLOPs\n"
     ]
    },
    {
     "name": "stderr",
     "output_type": "stream",
     "text": [
      "\u001b[34m\u001b[1mval: \u001b[0mScanning /Users/tanjiunkoon/Downloads/Others/yolov10/yolov10/Training BirdN\u001b[0m\n",
      "                 Class     Images  Instances      Box(P          R      mAP50  m\n"
     ]
    },
    {
     "name": "stdout",
     "output_type": "stream",
     "text": [
      "                   all         44         44      0.689      0.908      0.817      0.805\n",
      "               Grade A         44          8      0.606          1      0.884      0.867\n",
      "               Grade B         44          9        0.7      0.776      0.633      0.625\n",
      "               Grade C         44         27      0.762      0.949      0.935      0.924\n",
      "Speed: 0.6ms preprocess, 115.0ms inference, 0.0ms loss, 0.3ms postprocess per image\n",
      "Results saved to \u001b[1mruns/detect/train112\u001b[0m\n",
      "Ultralytics YOLOv8.1.34 🚀 Python-3.9.16 torch-2.0.1 CPU (Apple M1 Pro)\n",
      "\n",
      "\u001b[34m\u001b[1mPyTorch:\u001b[0m starting from 'runs/detect/train11/weights/best.pt' with input shape (1, 3, 640, 640) BCHW and output shape(s) (1, 7, 8400) (5.9 MB)\n",
      "\n",
      "\u001b[34m\u001b[1mONNX:\u001b[0m starting export with onnx 1.14.0 opset 17...\n",
      "================ Diagnostic Run torch.onnx.export version 2.0.1 ================\n",
      "verbose: False, log level: Level.ERROR\n",
      "======================= 0 NONE 0 NOTE 0 WARNING 0 ERROR ========================\n",
      "\n",
      "\u001b[34m\u001b[1mONNX:\u001b[0m export success ✅ 0.4s, saved as 'runs/detect/train11/weights/best.onnx' (11.7 MB)\n",
      "\n",
      "Export complete (0.6s)\n",
      "Results saved to \u001b[1m/Users/tanjiunkoon/Downloads/Others/yolov10/runs/detect/train11/weights\u001b[0m\n",
      "Predict:         yolo predict task=detect model=runs/detect/train11/weights/best.onnx imgsz=640  \n",
      "Validate:        yolo val task=detect model=runs/detect/train11/weights/best.onnx imgsz=640 data=/Users/tanjiunkoon/Downloads/Others/yolov10/yolov10/Training BirdNest /data.yaml  \n",
      "Visualize:       https://netron.app\n"
     ]
    }
   ],
   "source": [
    "from ultralytics import YOLO\n",
    "\n",
    "# Load a model\n",
    "model = YOLO(\"yolov8n.pt\")  # load a pretrained model (recommended for training)\n",
    "\n",
    "# Use the model \n",
    "model.train(data=\"/Users/tanjiunkoon/Downloads/Others/yolov10/yolov10/Training BirdNest /data.yaml\", epochs=50)  # train the model\n",
    "metrics = model.val()  # evaluate model performance on the validation set\n",
    "path = model.export(format=\"onnx\")  # export the model to ONNX format"
   ]
  },
  {
   "cell_type": "markdown",
   "id": "df143811",
   "metadata": {},
   "source": [
    "## <span style=\"color:#0b486b\">YOLOv10 model with 20 epochs (successful implementation)</span> ## \n",
    "***"
   ]
  },
  {
   "cell_type": "markdown",
   "id": "30cde63a",
   "metadata": {},
   "source": [
    "**Refer or using the model in the folder of train29.** "
   ]
  },
  {
   "cell_type": "code",
   "execution_count": null,
   "id": "f5ab1960",
   "metadata": {},
   "outputs": [
    {
     "name": "stdout",
     "output_type": "stream",
     "text": [
      "Using device: mps\n",
      "New https://pypi.org/project/ultralytics/8.2.58 available 😃 Update with 'pip install -U ultralytics'\n",
      "Ultralytics YOLOv8.1.34 🚀 Python-3.11.7 torch-2.3.1 MPS (Apple M1 Pro)\n",
      "\u001b[34m\u001b[1mengine/trainer: \u001b[0mtask=detect, mode=train, model=weights/yolov10s.pt, data=data.yaml, epochs=20, time=None, patience=100, batch=16, imgsz=640, save=True, save_period=-1, val_period=1, cache=False, device=mps, workers=8, project=None, name=train29, exist_ok=False, pretrained=True, optimizer=auto, verbose=True, seed=0, deterministic=True, single_cls=False, rect=False, cos_lr=False, close_mosaic=10, resume=False, amp=True, fraction=1.0, profile=False, freeze=None, multi_scale=False, overlap_mask=True, mask_ratio=4, dropout=0.0, val=True, split=val, save_json=False, save_hybrid=False, conf=None, iou=0.7, max_det=300, half=False, dnn=False, plots=True, source=None, vid_stride=1, stream_buffer=False, visualize=False, augment=False, agnostic_nms=False, classes=None, retina_masks=False, embed=None, show=False, save_frames=False, save_txt=False, save_conf=False, save_crop=False, show_labels=True, show_conf=True, show_boxes=True, line_width=None, format=torchscript, keras=False, optimize=False, int8=False, dynamic=False, simplify=False, opset=None, workspace=4, nms=False, lr0=0.01, lrf=0.01, momentum=0.937, weight_decay=0.0005, warmup_epochs=3.0, warmup_momentum=0.8, warmup_bias_lr=0.1, box=7.5, cls=0.5, dfl=1.5, pose=12.0, kobj=1.0, label_smoothing=0.0, nbs=64, hsv_h=0.015, hsv_s=0.7, hsv_v=0.4, degrees=0.0, translate=0.1, scale=0.5, shear=0.0, perspective=0.0, flipud=0.0, fliplr=0.5, bgr=0.0, mosaic=1.0, mixup=0.0, copy_paste=0.0, auto_augment=randaugment, erasing=0.4, crop_fraction=1.0, cfg=None, tracker=botsort.yaml, save_dir=runs/detect/train29\n",
      "Overriding model.yaml nc=80 with nc=3\n",
      "\n",
      "                   from  n    params  module                                       arguments                     \n",
      "  0                  -1  1       928  ultralytics.nn.modules.conv.Conv             [3, 32, 3, 2]                 \n",
      "  1                  -1  1     18560  ultralytics.nn.modules.conv.Conv             [32, 64, 3, 2]                \n",
      "  2                  -1  1     29056  ultralytics.nn.modules.block.C2f             [64, 64, 1, True]             \n",
      "  3                  -1  1     73984  ultralytics.nn.modules.conv.Conv             [64, 128, 3, 2]               \n",
      "  4                  -1  2    197632  ultralytics.nn.modules.block.C2f             [128, 128, 2, True]           \n",
      "  5                  -1  1     36096  ultralytics.nn.modules.block.SCDown          [128, 256, 3, 2]              \n",
      "  6                  -1  2    788480  ultralytics.nn.modules.block.C2f             [256, 256, 2, True]           \n",
      "  7                  -1  1    137728  ultralytics.nn.modules.block.SCDown          [256, 512, 3, 2]              \n",
      "  8                  -1  1    958464  ultralytics.nn.modules.block.C2fCIB          [512, 512, 1, True, True]     \n",
      "  9                  -1  1    656896  ultralytics.nn.modules.block.SPPF            [512, 512, 5]                 \n",
      " 10                  -1  1    990976  ultralytics.nn.modules.block.PSA             [512, 512]                    \n",
      " 11                  -1  1         0  torch.nn.modules.upsampling.Upsample         [None, 2, 'nearest']          \n",
      " 12             [-1, 6]  1         0  ultralytics.nn.modules.conv.Concat           [1]                           \n",
      " 13                  -1  1    591360  ultralytics.nn.modules.block.C2f             [768, 256, 1]                 \n",
      " 14                  -1  1         0  torch.nn.modules.upsampling.Upsample         [None, 2, 'nearest']          \n",
      " 15             [-1, 4]  1         0  ultralytics.nn.modules.conv.Concat           [1]                           \n",
      " 16                  -1  1    148224  ultralytics.nn.modules.block.C2f             [384, 128, 1]                 \n",
      " 17                  -1  1    147712  ultralytics.nn.modules.conv.Conv             [128, 128, 3, 2]              \n",
      " 18            [-1, 13]  1         0  ultralytics.nn.modules.conv.Concat           [1]                           \n",
      " 19                  -1  1    493056  ultralytics.nn.modules.block.C2f             [384, 256, 1]                 \n",
      " 20                  -1  1     68864  ultralytics.nn.modules.block.SCDown          [256, 256, 3, 2]              \n",
      " 21            [-1, 10]  1         0  ultralytics.nn.modules.conv.Concat           [1]                           \n",
      " 22                  -1  1   1089536  ultralytics.nn.modules.block.C2fCIB          [768, 512, 1, True, True]     \n",
      " 23        [16, 19, 22]  1   1641122  ultralytics.nn.modules.head.v10Detect        [3, [128, 256, 512]]          \n",
      "YOLOv10s summary: 402 layers, 8068674 parameters, 8068658 gradients, 24.8 GFLOPs\n",
      "\n",
      "Transferred 607/619 items from pretrained weights\n",
      "\u001b[34m\u001b[1mTensorBoard: \u001b[0mStart with 'tensorboard --logdir runs/detect/train29', view at http://localhost:6006/\n",
      "Freezing layer 'model.23.dfl.conv.weight'\n",
      "\u001b[34m\u001b[1mtrain: \u001b[0mScanning /Users/tanjiunkoon/Downloads/Others/yolov10/yolov10/Training Bir\u001b[0m\n",
      "\u001b[34m\u001b[1mval: \u001b[0mScanning /Users/tanjiunkoon/Downloads/Others/yolov10/yolov10/Training BirdN\u001b[0m\n",
      "Plotting labels to runs/detect/train29/labels.jpg... \n",
      "\u001b[34m\u001b[1moptimizer:\u001b[0m 'optimizer=auto' found, ignoring 'lr0=0.01' and 'momentum=0.937' and determining best 'optimizer', 'lr0' and 'momentum' automatically... \n",
      "\u001b[34m\u001b[1moptimizer:\u001b[0m AdamW(lr=0.001429, momentum=0.9) with parameter groups 99 weight(decay=0.0), 112 weight(decay=0.0005), 111 bias(decay=0.0)\n",
      "\u001b[34m\u001b[1mTensorBoard: \u001b[0mmodel graph visualization added ✅\n",
      "Image sizes 640 train, 640 val\n",
      "Using 0 dataloader workers\n",
      "Logging results to \u001b[1mruns/detect/train29\u001b[0m\n",
      "Starting training for 20 epochs...\n",
      "\n",
      "      Epoch    GPU_mem     box_om     cls_om     dfl_om     box_oo     cls_oo     dfl_oo  Instances       Size\n",
      "       1/20         0G     0.7027      1.621      1.235      0.702      4.355   \n",
      "                 Class     Images  Instances      Box(P          R      mAP50  m\n",
      "                   all         45         44      0.314      0.627      0.349      0.233\n",
      "\n",
      "      Epoch    GPU_mem     box_om     cls_om     dfl_om     box_oo     cls_oo     dfl_oo  Instances       Size\n",
      "       2/20         0G     0.8033      1.292      1.263     0.8783      1.649   \n",
      "                 Class     Images  Instances      Box(P          R      mAP50  m\n",
      "                   all         45         44      0.139      0.545      0.178     0.0812\n",
      "\n",
      "      Epoch    GPU_mem     box_om     cls_om     dfl_om     box_oo     cls_oo     dfl_oo  Instances       Size\n",
      "       3/20         0G     0.8082      1.239      1.259     0.9219      1.398   \n",
      "                 Class     Images  Instances      Box(P          R      mAP50  m\n",
      "                   all         45         44      0.148        0.4      0.193     0.0669\n",
      "\n",
      "      Epoch    GPU_mem     box_om     cls_om     dfl_om     box_oo     cls_oo     dfl_oo  Instances       Size\n",
      "       4/20         0G     0.7463      1.213      1.219     0.8422      1.347   \n",
      "                 Class     Images  Instances      Box(P          R      mAP50  m\n",
      "                   all         45         44      0.471      0.454      0.434      0.306\n",
      "\n",
      "      Epoch    GPU_mem     box_om     cls_om     dfl_om     box_oo     cls_oo     dfl_oo  Instances       Size\n",
      "       5/20         0G     0.7493      1.172      1.215     0.8574      1.243   \n",
      "                 Class     Images  Instances      Box(P          R      mAP50  m\n",
      "                   all         45         44      0.278      0.495      0.315      0.226\n",
      "\n",
      "      Epoch    GPU_mem     box_om     cls_om     dfl_om     box_oo     cls_oo     dfl_oo  Instances       Size\n",
      "       6/20         0G     0.7047      1.127      1.186     0.8033      1.206   \n",
      "                 Class     Images  Instances      Box(P          R      mAP50  m\n",
      "                   all         45         44      0.357      0.716      0.536      0.394\n",
      "\n",
      "      Epoch    GPU_mem     box_om     cls_om     dfl_om     box_oo     cls_oo     dfl_oo  Instances       Size\n",
      "       7/20         0G      0.665      1.095      1.166     0.7647      1.129   \n",
      "                 Class     Images  Instances      Box(P          R      mAP50  m\n",
      "                   all         45         44      0.315      0.738       0.47      0.362\n",
      "\n",
      "      Epoch    GPU_mem     box_om     cls_om     dfl_om     box_oo     cls_oo     dfl_oo  Instances       Size\n",
      "       8/20         0G     0.6424      1.091      1.162     0.7382      1.156   \n",
      "                 Class     Images  Instances      Box(P          R      mAP50  m\n",
      "                   all         45         44      0.388       0.81      0.592      0.422\n",
      "\n",
      "      Epoch    GPU_mem     box_om     cls_om     dfl_om     box_oo     cls_oo     dfl_oo  Instances       Size\n",
      "       9/20         0G      0.635      1.059      1.137      0.728      1.089   \n",
      "                 Class     Images  Instances      Box(P          R      mAP50  m\n",
      "                   all         45         44      0.387      0.616      0.507      0.365\n",
      "\n",
      "      Epoch    GPU_mem     box_om     cls_om     dfl_om     box_oo     cls_oo     dfl_oo  Instances       Size\n",
      "      10/20         0G     0.6021      0.993      1.136      0.697      1.007   \n",
      "                 Class     Images  Instances      Box(P          R      mAP50  m\n",
      "                   all         45         44      0.379      0.843      0.507      0.375\n",
      "Closing dataloader mosaic\n",
      "\n",
      "      Epoch    GPU_mem     box_om     cls_om     dfl_om     box_oo     cls_oo     dfl_oo  Instances       Size\n",
      "      11/20         0G     0.3759     0.8935     0.9955     0.4106       0.93   \n",
      "                 Class     Images  Instances      Box(P          R      mAP50  m\n",
      "                   all         45         44       0.37      0.852      0.472      0.344\n",
      "\n",
      "      Epoch    GPU_mem     box_om     cls_om     dfl_om     box_oo     cls_oo     dfl_oo  Instances       Size\n",
      "      12/20         0G     0.3379     0.8478     0.9662     0.3671      0.829   \n",
      "                 Class     Images  Instances      Box(P          R      mAP50  m\n",
      "                   all         45         44      0.379      0.739      0.644      0.494\n",
      "\n",
      "      Epoch    GPU_mem     box_om     cls_om     dfl_om     box_oo     cls_oo     dfl_oo  Instances       Size\n",
      "      13/20         0G     0.3144      0.829     0.9315     0.3462     0.8118   \n",
      "                 Class     Images  Instances      Box(P          R      mAP50  m\n",
      "                   all         45         44      0.536       0.81       0.67      0.503\n",
      "\n",
      "      Epoch    GPU_mem     box_om     cls_om     dfl_om     box_oo     cls_oo     dfl_oo  Instances       Size\n",
      "      14/20         0G     0.3062     0.8036     0.9394     0.3336     0.7954   \n",
      "                 Class     Images  Instances      Box(P          R      mAP50  m\n",
      "                   all         45         44      0.402       0.79      0.594      0.456\n",
      "\n",
      "      Epoch    GPU_mem     box_om     cls_om     dfl_om     box_oo     cls_oo     dfl_oo  Instances       Size\n",
      "      15/20         0G     0.2841     0.7902     0.9191     0.3142     0.7629   \n",
      "                 Class     Images  Instances      Box(P          R      mAP50  m\n",
      "                   all         45         44      0.426      0.852      0.633      0.485\n",
      "\n",
      "      Epoch    GPU_mem     box_om     cls_om     dfl_om     box_oo     cls_oo     dfl_oo  Instances       Size\n",
      "      16/20         0G     0.2794     0.7658     0.9161     0.3048     0.7459   \n",
      "                 Class     Images  Instances      Box(P          R      mAP50  m\n",
      "                   all         45         44      0.494      0.827      0.691      0.527\n",
      "\n",
      "      Epoch    GPU_mem     box_om     cls_om     dfl_om     box_oo     cls_oo     dfl_oo  Instances       Size\n",
      "      17/20         0G     0.2657     0.7782     0.9047      0.286     0.7525   \n",
      "                 Class     Images  Instances      Box(P          R      mAP50  m\n",
      "                   all         45         44      0.572      0.827      0.707      0.536\n",
      "\n",
      "      Epoch    GPU_mem     box_om     cls_om     dfl_om     box_oo     cls_oo     dfl_oo  Instances       Size\n",
      "      18/20         0G     0.2462     0.7097     0.9012     0.2584      0.682   \n",
      "                 Class     Images  Instances      Box(P          R      mAP50  m\n",
      "                   all         45         44      0.601      0.611       0.61      0.466\n",
      "\n",
      "      Epoch    GPU_mem     box_om     cls_om     dfl_om     box_oo     cls_oo     dfl_oo  Instances       Size\n",
      "      19/20         0G      0.241     0.6949     0.8916      0.259     0.6698   \n",
      "                 Class     Images  Instances      Box(P          R      mAP50  m\n",
      "                   all         45         44      0.467       0.89      0.678      0.514\n",
      "\n",
      "      Epoch    GPU_mem     box_om     cls_om     dfl_om     box_oo     cls_oo     dfl_oo  Instances       Size\n",
      "      20/20         0G     0.2284     0.6495     0.8829     0.2398     0.6218   \n",
      "                 Class     Images  Instances      Box(P          R      mAP50  m\n",
      "                   all         45         44      0.525      0.913      0.729       0.56\n",
      "\n",
      "20 epochs completed in 1.802 hours.\n",
      "Optimizer stripped from runs/detect/train29/weights/last.pt, 16.5MB\n",
      "Optimizer stripped from runs/detect/train29/weights/best.pt, 16.5MB\n",
      "\n",
      "Validating runs/detect/train29/weights/best.pt...\n",
      "Ultralytics YOLOv8.1.34 🚀 Python-3.11.7 torch-2.3.1 MPS (Apple M1 Pro)\n",
      "YOLOv10s summary (fused): 293 layers, 8037282 parameters, 0 gradients, 24.5 GFLOPs\n",
      "                 Class     Images  Instances      Box(P          R      mAP50  m\n",
      "                   all         45         44      0.526      0.913      0.729       0.56\n",
      "      Grade A Birdnest         45          8      0.657      0.961      0.955      0.764\n",
      "      Grade B Birdnest         45          9      0.332      0.778       0.39      0.295\n",
      "      Grade C Birdnest         45         27      0.591          1      0.843      0.621\n",
      "Speed: 123.8ms preprocess, 704.5ms inference, 0.0ms loss, 1.3ms postprocess per image\n",
      "Results saved to \u001b[1mruns/detect/train29\u001b[0m\n",
      "💡 Learn more at https://docs.ultralytics.com/modes/train\n"
     ]
    }
   ],
   "source": [
    "import torch\n",
    "\n",
    "# Check if MPS is available and set the device accordingly\n",
    "device = torch.device(\"mps\") if torch.backends.mps.is_available() else torch.device(\"cpu\")\n",
    "print(f\"Using device: {device}\")\n",
    "\n",
    "# Ensure you have the correct yolo command\n",
    "!yolo task=detect mode=train epochs=20 batch=16 plots=True model=weights/yolov10s.pt data=data.yaml device={device}"
   ]
  },
  {
   "cell_type": "markdown",
   "id": "73818f42",
   "metadata": {},
   "source": [
    "**Detect the Image by using desired model for specified image.** "
   ]
  },
  {
   "cell_type": "code",
   "execution_count": null,
   "id": "5e88ab40-e972-41b8-8da2-0324e58d7cad",
   "metadata": {},
   "outputs": [
    {
     "name": "stdout",
     "output_type": "stream",
     "text": [
      "Ultralytics YOLOv8.1.34 🚀 Python-3.11.7 torch-2.3.1 CPU (Apple M1 Pro)\n",
      "YOLOv10n summary (fused): 285 layers, 2695586 parameters, 0 gradients, 8.2 GFLOPs\n",
      "\n",
      "image 1/1 /Users/tanjiunkoon/Downloads/Others/yolov10/1.jpg: 384x512 1 Grade C Birdnest, 63.4ms\n",
      "Speed: 1.5ms preprocess, 63.4ms inference, 3.3ms postprocess per image at shape (1, 3, 384, 512)\n",
      "Results saved to \u001b[1mruns/detect/predict6\u001b[0m\n",
      "💡 Learn more at https://docs.ultralytics.com/modes/predict\n"
     ]
    }
   ],
   "source": [
    "!yolo task=detect mode=predict conf=0.25 save=True model=runs/detect/train36/weights/best.pt source=/Users/tanjiunkoon/Downloads/Others/yolov10/1.jpg"
   ]
  },
  {
   "cell_type": "markdown",
   "id": "c6cf0692",
   "metadata": {},
   "source": [
    "## <span style=\"color:#0b486b\">What to do next ## \n",
    "***"
   ]
  },
  {
   "cell_type": "markdown",
   "id": "1e75a4e2",
   "metadata": {},
   "source": [
    "1. Training the model with 100 epochs by using pre-trained yolov10x.pt but higher latency with higher accurary\n",
    "2. Training the model with 100 epochs by using pre-trained yolov10n.pt for lower latency with lower accurary"
   ]
  },
  {
   "cell_type": "code",
   "execution_count": null,
   "id": "58147797",
   "metadata": {},
   "outputs": [
    {
     "name": "stdout",
     "output_type": "stream",
     "text": [
      "Using device: mps\n",
      "New https://pypi.org/project/ultralytics/8.2.58 available 😃 Update with 'pip install -U ultralytics'\n",
      "Ultralytics YOLOv8.1.34 🚀 Python-3.11.7 torch-2.3.1 MPS (Apple M1 Pro)\n",
      "\u001b[34m\u001b[1mengine/trainer: \u001b[0mtask=detect, mode=train, model=weights/yolov10n.pt, data=data.yaml, epochs=50, time=None, patience=100, batch=4, imgsz=512, save=True, save_period=-1, val_period=1, cache=False, device=mps, workers=8, project=None, name=train36, exist_ok=False, pretrained=True, optimizer=auto, verbose=True, seed=0, deterministic=True, single_cls=False, rect=False, cos_lr=False, close_mosaic=10, resume=False, amp=True, fraction=1.0, profile=False, freeze=None, multi_scale=False, overlap_mask=True, mask_ratio=4, dropout=0.0, val=True, split=val, save_json=False, save_hybrid=False, conf=None, iou=0.7, max_det=300, half=False, dnn=False, plots=True, source=None, vid_stride=1, stream_buffer=False, visualize=False, augment=False, agnostic_nms=False, classes=None, retina_masks=False, embed=None, show=False, save_frames=False, save_txt=False, save_conf=False, save_crop=False, show_labels=True, show_conf=True, show_boxes=True, line_width=None, format=torchscript, keras=False, optimize=False, int8=False, dynamic=False, simplify=False, opset=None, workspace=4, nms=False, lr0=0.01, lrf=0.01, momentum=0.937, weight_decay=0.0005, warmup_epochs=3.0, warmup_momentum=0.8, warmup_bias_lr=0.1, box=7.5, cls=0.5, dfl=1.5, pose=12.0, kobj=1.0, label_smoothing=0.0, nbs=64, hsv_h=0.015, hsv_s=0.7, hsv_v=0.4, degrees=0.0, translate=0.1, scale=0.5, shear=0.0, perspective=0.0, flipud=0.0, fliplr=0.5, bgr=0.0, mosaic=1.0, mixup=0.0, copy_paste=0.0, auto_augment=randaugment, erasing=0.4, crop_fraction=1.0, cfg=None, tracker=botsort.yaml, save_dir=runs/detect/train36\n",
      "Overriding model.yaml nc=80 with nc=3\n",
      "\n",
      "                   from  n    params  module                                       arguments                     \n",
      "  0                  -1  1       464  ultralytics.nn.modules.conv.Conv             [3, 16, 3, 2]                 \n",
      "  1                  -1  1      4672  ultralytics.nn.modules.conv.Conv             [16, 32, 3, 2]                \n",
      "  2                  -1  1      7360  ultralytics.nn.modules.block.C2f             [32, 32, 1, True]             \n",
      "  3                  -1  1     18560  ultralytics.nn.modules.conv.Conv             [32, 64, 3, 2]                \n",
      "  4                  -1  2     49664  ultralytics.nn.modules.block.C2f             [64, 64, 2, True]             \n",
      "  5                  -1  1      9856  ultralytics.nn.modules.block.SCDown          [64, 128, 3, 2]               \n",
      "  6                  -1  2    197632  ultralytics.nn.modules.block.C2f             [128, 128, 2, True]           \n",
      "  7                  -1  1     36096  ultralytics.nn.modules.block.SCDown          [128, 256, 3, 2]              \n",
      "  8                  -1  1    460288  ultralytics.nn.modules.block.C2f             [256, 256, 1, True]           \n",
      "  9                  -1  1    164608  ultralytics.nn.modules.block.SPPF            [256, 256, 5]                 \n",
      " 10                  -1  1    249728  ultralytics.nn.modules.block.PSA             [256, 256]                    \n",
      " 11                  -1  1         0  torch.nn.modules.upsampling.Upsample         [None, 2, 'nearest']          \n",
      " 12             [-1, 6]  1         0  ultralytics.nn.modules.conv.Concat           [1]                           \n",
      " 13                  -1  1    148224  ultralytics.nn.modules.block.C2f             [384, 128, 1]                 \n",
      " 14                  -1  1         0  torch.nn.modules.upsampling.Upsample         [None, 2, 'nearest']          \n",
      " 15             [-1, 4]  1         0  ultralytics.nn.modules.conv.Concat           [1]                           \n",
      " 16                  -1  1     37248  ultralytics.nn.modules.block.C2f             [192, 64, 1]                  \n",
      " 17                  -1  1     36992  ultralytics.nn.modules.conv.Conv             [64, 64, 3, 2]                \n",
      " 18            [-1, 13]  1         0  ultralytics.nn.modules.conv.Concat           [1]                           \n",
      " 19                  -1  1    123648  ultralytics.nn.modules.block.C2f             [192, 128, 1]                 \n",
      " 20                  -1  1     18048  ultralytics.nn.modules.block.SCDown          [128, 128, 3, 2]              \n",
      " 21            [-1, 10]  1         0  ultralytics.nn.modules.conv.Concat           [1]                           \n",
      " 22                  -1  1    282624  ultralytics.nn.modules.block.C2fCIB          [384, 256, 1, True, True]     \n",
      " 23        [16, 19, 22]  1    862498  ultralytics.nn.modules.head.v10Detect        [3, [64, 128, 256]]           \n",
      "YOLOv10n summary: 385 layers, 2708210 parameters, 2708194 gradients, 8.4 GFLOPs\n",
      "\n",
      "Transferred 493/595 items from pretrained weights\n",
      "\u001b[34m\u001b[1mTensorBoard: \u001b[0mStart with 'tensorboard --logdir runs/detect/train36', view at http://localhost:6006/\n",
      "Freezing layer 'model.23.dfl.conv.weight'\n",
      "\u001b[34m\u001b[1mtrain: \u001b[0mScanning /Users/tanjiunkoon/Downloads/Others/yolov10/yolov10/Training Bir\u001b[0m\n",
      "\u001b[34m\u001b[1mval: \u001b[0mScanning /Users/tanjiunkoon/Downloads/Others/yolov10/yolov10/Training BirdN\u001b[0m\n",
      "Plotting labels to runs/detect/train36/labels.jpg... \n",
      "\u001b[34m\u001b[1moptimizer:\u001b[0m 'optimizer=auto' found, ignoring 'lr0=0.01' and 'momentum=0.937' and determining best 'optimizer', 'lr0' and 'momentum' automatically... \n",
      "\u001b[34m\u001b[1moptimizer:\u001b[0m AdamW(lr=0.001429, momentum=0.9) with parameter groups 95 weight(decay=0.0), 108 weight(decay=0.0005), 107 bias(decay=0.0)\n",
      "\u001b[34m\u001b[1mTensorBoard: \u001b[0mmodel graph visualization added ✅\n",
      "Image sizes 512 train, 512 val\n",
      "Using 0 dataloader workers\n",
      "Logging results to \u001b[1mruns/detect/train36\u001b[0m\n",
      "Starting training for 50 epochs...\n",
      "\n",
      "      Epoch    GPU_mem     box_om     cls_om     dfl_om     box_oo     cls_oo     dfl_oo  Instances       Size\n",
      "       1/50         0G     0.7765      2.223      1.257     0.6661      3.952   \n",
      "                 Class     Images  Instances      Box(P          R      mAP50  m\n",
      "                   all         45         44      0.197      0.459      0.359       0.24\n",
      "\n",
      "      Epoch    GPU_mem     box_om     cls_om     dfl_om     box_oo     cls_oo     dfl_oo  Instances       Size\n",
      "       2/50         0G     0.7782      1.665      1.194     0.7821      3.107   \n",
      "                 Class     Images  Instances      Box(P          R      mAP50  m\n",
      "                   all         45         44      0.328      0.526      0.417       0.27\n",
      "\n",
      "      Epoch    GPU_mem     box_om     cls_om     dfl_om     box_oo     cls_oo     dfl_oo  Instances       Size\n",
      "       3/50         0G     0.8031       1.49      1.197     0.8506      2.437   \n",
      "                 Class     Images  Instances      Box(P          R      mAP50  m\n",
      "                   all         45         44      0.316       0.63      0.331      0.231\n",
      "\n",
      "      Epoch    GPU_mem     box_om     cls_om     dfl_om     box_oo     cls_oo     dfl_oo  Instances       Size\n",
      "       4/50         0G     0.8217       1.44      1.199     0.9033      2.101   \n",
      "                 Class     Images  Instances      Box(P          R      mAP50  m\n",
      "                   all         45         44      0.377      0.623      0.455      0.345\n",
      "\n",
      "      Epoch    GPU_mem     box_om     cls_om     dfl_om     box_oo     cls_oo     dfl_oo  Instances       Size\n",
      "       5/50         0G     0.7621      1.333       1.16     0.8246      1.742   \n",
      "                 Class     Images  Instances      Box(P          R      mAP50  m\n",
      "                   all         45         44      0.517      0.736      0.591      0.418\n",
      "\n",
      "      Epoch    GPU_mem     box_om     cls_om     dfl_om     box_oo     cls_oo     dfl_oo  Instances       Size\n",
      "       6/50         0G     0.7121      1.247      1.126     0.7922       1.55   \n",
      "                 Class     Images  Instances      Box(P          R      mAP50  m\n",
      "                   all         45         44      0.386      0.552       0.56      0.399\n",
      "\n",
      "      Epoch    GPU_mem     box_om     cls_om     dfl_om     box_oo     cls_oo     dfl_oo  Instances       Size\n",
      "       7/50         0G      0.706      1.236      1.126     0.7904      1.455   \n",
      "                 Class     Images  Instances      Box(P          R      mAP50  m\n",
      "                   all         45         44       0.35      0.604       0.49      0.351\n",
      "\n",
      "      Epoch    GPU_mem     box_om     cls_om     dfl_om     box_oo     cls_oo     dfl_oo  Instances       Size\n",
      "       8/50         0G     0.6934      1.194       1.13      0.779      1.364   \n",
      "                 Class     Images  Instances      Box(P          R      mAP50  m\n",
      "                   all         45         44      0.648      0.491      0.588      0.401\n",
      "\n",
      "      Epoch    GPU_mem     box_om     cls_om     dfl_om     box_oo     cls_oo     dfl_oo  Instances       Size\n",
      "       9/50         0G     0.6482      1.138      1.099     0.7255      1.246   \n",
      "                 Class     Images  Instances      Box(P          R      mAP50  m\n",
      "                   all         45         44      0.469      0.604      0.585      0.435\n",
      "\n",
      "      Epoch    GPU_mem     box_om     cls_om     dfl_om     box_oo     cls_oo     dfl_oo  Instances       Size\n",
      "      10/50         0G     0.6495      1.127       1.11     0.7333      1.217   \n",
      "                 Class     Images  Instances      Box(P          R      mAP50  m\n",
      "                   all         45         44      0.345      0.728      0.479      0.317\n",
      "\n",
      "      Epoch    GPU_mem     box_om     cls_om     dfl_om     box_oo     cls_oo     dfl_oo  Instances       Size\n",
      "      11/50         0G     0.6573        1.1      1.109     0.7472      1.183   \n",
      "                 Class     Images  Instances      Box(P          R      mAP50  m\n",
      "                   all         45         44      0.425      0.922      0.551       0.39\n",
      "\n",
      "      Epoch    GPU_mem     box_om     cls_om     dfl_om     box_oo     cls_oo     dfl_oo  Instances       Size\n",
      "      12/50         0G     0.6267       1.09      1.076     0.7212      1.155   \n",
      "                 Class     Images  Instances      Box(P          R      mAP50  m\n",
      "                   all         45         44       0.44      0.731      0.613      0.432\n",
      "\n",
      "      Epoch    GPU_mem     box_om     cls_om     dfl_om     box_oo     cls_oo     dfl_oo  Instances       Size\n",
      "      13/50         0G      0.629      1.064      1.077     0.6995      1.105   \n",
      "                 Class     Images  Instances      Box(P          R      mAP50  m\n",
      "                   all         45         44      0.449      0.941      0.553      0.401\n",
      "\n",
      "      Epoch    GPU_mem     box_om     cls_om     dfl_om     box_oo     cls_oo     dfl_oo  Instances       Size\n",
      "      14/50         0G     0.5994       1.06      1.076     0.6847      1.102   \n",
      "                 Class     Images  Instances      Box(P          R      mAP50  m\n",
      "                   all         45         44      0.424      0.836      0.689      0.471\n",
      "\n",
      "      Epoch    GPU_mem     box_om     cls_om     dfl_om     box_oo     cls_oo     dfl_oo  Instances       Size\n",
      "      15/50         0G      0.585       1.02      1.064     0.6677      1.048   \n",
      "                 Class     Images  Instances      Box(P          R      mAP50  m\n",
      "                   all         45         44      0.388      0.759      0.515      0.353\n",
      "\n",
      "      Epoch    GPU_mem     box_om     cls_om     dfl_om     box_oo     cls_oo     dfl_oo  Instances       Size\n",
      "      16/50         0G     0.5856      1.018      1.066     0.6674      1.052   \n",
      "                 Class     Images  Instances      Box(P          R      mAP50  m\n",
      "                   all         45         44      0.511      0.796      0.653      0.466\n",
      "\n",
      "      Epoch    GPU_mem     box_om     cls_om     dfl_om     box_oo     cls_oo     dfl_oo  Instances       Size\n",
      "      17/50         0G     0.5789       1.01      1.065     0.6555      1.039   \n",
      "                 Class     Images  Instances      Box(P          R      mAP50  m\n",
      "                   all         45         44      0.503      0.781      0.586      0.402\n",
      "\n",
      "      Epoch    GPU_mem     box_om     cls_om     dfl_om     box_oo     cls_oo     dfl_oo  Instances       Size\n",
      "      18/50         0G     0.5643      1.001      1.051     0.6442      1.017   \n",
      "                 Class     Images  Instances      Box(P          R      mAP50  m\n",
      "                   all         45         44      0.419      0.874      0.579      0.402\n",
      "\n",
      "      Epoch    GPU_mem     box_om     cls_om     dfl_om     box_oo     cls_oo     dfl_oo  Instances       Size\n",
      "      19/50         0G     0.5725     0.9964      1.056     0.6565     0.9851   \n",
      "                 Class     Images  Instances      Box(P          R      mAP50  m\n",
      "                   all         45         44      0.482      0.728      0.608       0.43\n",
      "\n",
      "      Epoch    GPU_mem     box_om     cls_om     dfl_om     box_oo     cls_oo     dfl_oo  Instances       Size\n",
      "      20/50         0G       0.59     0.9971      1.073     0.6633      1.015   \n",
      "                 Class     Images  Instances      Box(P          R      mAP50  m\n",
      "                   all         45         44      0.563      0.803      0.611      0.413\n",
      "\n",
      "      Epoch    GPU_mem     box_om     cls_om     dfl_om     box_oo     cls_oo     dfl_oo  Instances       Size\n",
      "      21/50         0G     0.5627     0.9621      1.049     0.6427     0.9604   \n",
      "                 Class     Images  Instances      Box(P          R      mAP50  m\n",
      "                   all         45         44      0.565      0.605      0.647      0.457\n",
      "\n",
      "      Epoch    GPU_mem     box_om     cls_om     dfl_om     box_oo     cls_oo     dfl_oo  Instances       Size\n",
      "      22/50         0G     0.5598      0.964      1.049     0.6345     0.9592   \n",
      "                 Class     Images  Instances      Box(P          R      mAP50  m\n",
      "                   all         45         44      0.489      0.724      0.607      0.421\n",
      "\n",
      "      Epoch    GPU_mem     box_om     cls_om     dfl_om     box_oo     cls_oo     dfl_oo  Instances       Size\n",
      "      23/50         0G     0.5446     0.9549      1.046     0.6103     0.9552   \n",
      "                 Class     Images  Instances      Box(P          R      mAP50  m\n",
      "                   all         45         44      0.552      0.829      0.671      0.478\n",
      "\n",
      "      Epoch    GPU_mem     box_om     cls_om     dfl_om     box_oo     cls_oo     dfl_oo  Instances       Size\n",
      "      24/50         0G     0.5386     0.9498      1.044     0.6146     0.9329   \n",
      "                 Class     Images  Instances      Box(P          R      mAP50  m\n",
      "                   all         45         44      0.463      0.847      0.654       0.47\n",
      "\n",
      "      Epoch    GPU_mem     box_om     cls_om     dfl_om     box_oo     cls_oo     dfl_oo  Instances       Size\n",
      "      25/50         0G     0.5521     0.9366      1.053     0.6257     0.9162   \n",
      "                 Class     Images  Instances      Box(P          R      mAP50  m\n",
      "                   all         45         44      0.516      0.813      0.577      0.408\n",
      "\n",
      "      Epoch    GPU_mem     box_om     cls_om     dfl_om     box_oo     cls_oo     dfl_oo  Instances       Size\n",
      "      26/50         0G     0.5327     0.9331      1.035     0.6094     0.9093   \n",
      "                 Class     Images  Instances      Box(P          R      mAP50  m\n",
      "                   all         45         44       0.45      0.931      0.639      0.445\n",
      "\n",
      "      Epoch    GPU_mem     box_om     cls_om     dfl_om     box_oo     cls_oo     dfl_oo  Instances       Size\n",
      "      27/50         0G      0.523      0.911      1.028      0.579     0.8946   \n",
      "                 Class     Images  Instances      Box(P          R      mAP50  m\n",
      "                   all         45         44      0.592      0.829      0.713      0.522\n",
      "\n",
      "      Epoch    GPU_mem     box_om     cls_om     dfl_om     box_oo     cls_oo     dfl_oo  Instances       Size\n",
      "      28/50         0G     0.5158        0.9      1.029     0.5786     0.8984   \n",
      "                 Class     Images  Instances      Box(P          R      mAP50  m\n",
      "                   all         45         44      0.481      0.788       0.62      0.436\n",
      "\n",
      "      Epoch    GPU_mem     box_om     cls_om     dfl_om     box_oo     cls_oo     dfl_oo  Instances       Size\n",
      "      29/50         0G     0.5182     0.9063      1.029     0.5762     0.8942   \n",
      "                 Class     Images  Instances      Box(P          R      mAP50  m\n",
      "                   all         45         44      0.474      0.884      0.656      0.476\n",
      "\n",
      "      Epoch    GPU_mem     box_om     cls_om     dfl_om     box_oo     cls_oo     dfl_oo  Instances       Size\n",
      "      30/50         0G     0.5229     0.8926      1.048     0.5801     0.8844   \n",
      "                 Class     Images  Instances      Box(P          R      mAP50  m\n",
      "                   all         45         44       0.52      0.813      0.613      0.437\n",
      "\n",
      "      Epoch    GPU_mem     box_om     cls_om     dfl_om     box_oo     cls_oo     dfl_oo  Instances       Size\n",
      "      31/50         0G     0.5244     0.8968      1.043      0.608     0.8779   \n",
      "                 Class     Images  Instances      Box(P          R      mAP50  m\n",
      "                   all         45         44      0.596      0.741      0.747      0.515\n",
      "\n",
      "      Epoch    GPU_mem     box_om     cls_om     dfl_om     box_oo     cls_oo     dfl_oo  Instances       Size\n",
      "      32/50         0G     0.5044      0.861      1.029     0.5718     0.8458   \n",
      "                 Class     Images  Instances      Box(P          R      mAP50  m\n",
      "                   all         45         44      0.674      0.825      0.771      0.544\n",
      "\n",
      "      Epoch    GPU_mem     box_om     cls_om     dfl_om     box_oo     cls_oo     dfl_oo  Instances       Size\n",
      "      33/50         0G     0.4958     0.8593      1.016     0.5542     0.8554   \n",
      "Traceback (most recent call last):\n",
      "  File \"/opt/anaconda3/bin/yolo\", line 8, in <module>\n",
      "    sys.exit(entrypoint())\n",
      "             ^^^^^^^^^^^^\n",
      "  File \"/opt/anaconda3/lib/python3.11/site-packages/ultralytics/cfg/__init__.py\", line 594, in entrypoint\n",
      "    getattr(model, mode)(**overrides)  # default args from model\n",
      "    ^^^^^^^^^^^^^^^^^^^^^^^^^^^^^^^^^\n",
      "  File \"/opt/anaconda3/lib/python3.11/site-packages/ultralytics/engine/model.py\", line 657, in train\n",
      "    self.trainer.train()\n",
      "  File \"/opt/anaconda3/lib/python3.11/site-packages/ultralytics/engine/trainer.py\", line 213, in train\n",
      "    self._do_train(world_size)\n",
      "  File \"/opt/anaconda3/lib/python3.11/site-packages/ultralytics/engine/trainer.py\", line 389, in _do_train\n",
      "    self.scaler.scale(self.loss).backward()\n",
      "  File \"/opt/anaconda3/lib/python3.11/site-packages/torch/_tensor.py\", line 525, in backward\n",
      "    torch.autograd.backward(\n",
      "  File \"/opt/anaconda3/lib/python3.11/site-packages/torch/autograd/__init__.py\", line 267, in backward\n",
      "    _engine_run_backward(\n",
      "  File \"/opt/anaconda3/lib/python3.11/site-packages/torch/autograd/graph.py\", line 744, in _engine_run_backward\n",
      "    return Variable._execution_engine.run_backward(  # Calls into the C++ engine to run the backward pass\n",
      "           ^^^^^^^^^^^^^^^^^^^^^^^^^^^^^^^^^^^^^^^^^^^^^^^^^^^^^^^^^^^^^^^^^^^^^^^^^^^^^^^^^^^^^^^^^^^^^^\n",
      "RuntimeError: MPS backend out of memory (MPS allocated: 1.32 GB, other allocations: 16.80 GB, max allowed: 18.13 GB). Tried to allocate 16.00 MB on private pool. Use PYTORCH_MPS_HIGH_WATERMARK_RATIO=0.0 to disable upper limit for memory allocations (may cause system failure).\n"
     ]
    }
   ],
   "source": [
    "import torch\n",
    "\n",
    "# Check if MPS is available and set the device accordingly\n",
    "device = torch.device(\"mps\") if torch.backends.mps.is_available() else torch.device(\"cpu\")\n",
    "print(f\"Using device: {device}\")\n",
    "\n",
    "!export PYTORCH_MPS_HIGH_WATERMARK_RATIO=0.0\n",
    "# Ensure you have the correct yolo command\n",
    "!yolo task=detect mode=train epochs=50 batch=4 imgsz=512 plots=True model=weights/yolov10n.pt data=data.yaml device=mps"
   ]
  },
  {
   "cell_type": "code",
   "execution_count": null,
   "id": "3f180243",
   "metadata": {},
   "outputs": [
    {
     "name": "stdout",
     "output_type": "stream",
     "text": [
      "Using device: mps\n",
      "New https://pypi.org/project/ultralytics/8.2.58 available 😃 Update with 'pip install -U ultralytics'\n",
      "Ultralytics YOLOv8.1.34 🚀 Python-3.11.7 torch-2.3.1 MPS (Apple M1 Pro)\n",
      "\u001b[34m\u001b[1mengine/trainer: \u001b[0mtask=detect, mode=train, model=weights/yolov10n.pt, data=data.yaml, epochs=30, time=None, patience=100, batch=16, imgsz=640, save=True, save_period=-1, val_period=1, cache=False, device=mps, workers=8, project=None, name=train37, exist_ok=False, pretrained=True, optimizer=auto, verbose=True, seed=0, deterministic=True, single_cls=False, rect=False, cos_lr=False, close_mosaic=10, resume=False, amp=True, fraction=1.0, profile=False, freeze=None, multi_scale=False, overlap_mask=True, mask_ratio=4, dropout=0.0, val=True, split=val, save_json=False, save_hybrid=False, conf=None, iou=0.7, max_det=300, half=False, dnn=False, plots=True, source=None, vid_stride=1, stream_buffer=False, visualize=False, augment=False, agnostic_nms=False, classes=None, retina_masks=False, embed=None, show=False, save_frames=False, save_txt=False, save_conf=False, save_crop=False, show_labels=True, show_conf=True, show_boxes=True, line_width=None, format=torchscript, keras=False, optimize=False, int8=False, dynamic=False, simplify=False, opset=None, workspace=4, nms=False, lr0=0.01, lrf=0.01, momentum=0.937, weight_decay=0.0005, warmup_epochs=3.0, warmup_momentum=0.8, warmup_bias_lr=0.1, box=7.5, cls=0.5, dfl=1.5, pose=12.0, kobj=1.0, label_smoothing=0.0, nbs=64, hsv_h=0.015, hsv_s=0.7, hsv_v=0.4, degrees=0.0, translate=0.1, scale=0.5, shear=0.0, perspective=0.0, flipud=0.0, fliplr=0.5, bgr=0.0, mosaic=1.0, mixup=0.0, copy_paste=0.0, auto_augment=randaugment, erasing=0.4, crop_fraction=1.0, cfg=None, tracker=botsort.yaml, save_dir=runs/detect/train37\n",
      "Overriding model.yaml nc=80 with nc=3\n",
      "\n",
      "                   from  n    params  module                                       arguments                     \n",
      "  0                  -1  1       464  ultralytics.nn.modules.conv.Conv             [3, 16, 3, 2]                 \n",
      "  1                  -1  1      4672  ultralytics.nn.modules.conv.Conv             [16, 32, 3, 2]                \n",
      "  2                  -1  1      7360  ultralytics.nn.modules.block.C2f             [32, 32, 1, True]             \n",
      "  3                  -1  1     18560  ultralytics.nn.modules.conv.Conv             [32, 64, 3, 2]                \n",
      "  4                  -1  2     49664  ultralytics.nn.modules.block.C2f             [64, 64, 2, True]             \n",
      "  5                  -1  1      9856  ultralytics.nn.modules.block.SCDown          [64, 128, 3, 2]               \n",
      "  6                  -1  2    197632  ultralytics.nn.modules.block.C2f             [128, 128, 2, True]           \n",
      "  7                  -1  1     36096  ultralytics.nn.modules.block.SCDown          [128, 256, 3, 2]              \n",
      "  8                  -1  1    460288  ultralytics.nn.modules.block.C2f             [256, 256, 1, True]           \n",
      "  9                  -1  1    164608  ultralytics.nn.modules.block.SPPF            [256, 256, 5]                 \n",
      " 10                  -1  1    249728  ultralytics.nn.modules.block.PSA             [256, 256]                    \n",
      " 11                  -1  1         0  torch.nn.modules.upsampling.Upsample         [None, 2, 'nearest']          \n",
      " 12             [-1, 6]  1         0  ultralytics.nn.modules.conv.Concat           [1]                           \n",
      " 13                  -1  1    148224  ultralytics.nn.modules.block.C2f             [384, 128, 1]                 \n",
      " 14                  -1  1         0  torch.nn.modules.upsampling.Upsample         [None, 2, 'nearest']          \n",
      " 15             [-1, 4]  1         0  ultralytics.nn.modules.conv.Concat           [1]                           \n",
      " 16                  -1  1     37248  ultralytics.nn.modules.block.C2f             [192, 64, 1]                  \n",
      " 17                  -1  1     36992  ultralytics.nn.modules.conv.Conv             [64, 64, 3, 2]                \n",
      " 18            [-1, 13]  1         0  ultralytics.nn.modules.conv.Concat           [1]                           \n",
      " 19                  -1  1    123648  ultralytics.nn.modules.block.C2f             [192, 128, 1]                 \n",
      " 20                  -1  1     18048  ultralytics.nn.modules.block.SCDown          [128, 128, 3, 2]              \n",
      " 21            [-1, 10]  1         0  ultralytics.nn.modules.conv.Concat           [1]                           \n",
      " 22                  -1  1    282624  ultralytics.nn.modules.block.C2fCIB          [384, 256, 1, True, True]     \n",
      " 23        [16, 19, 22]  1    862498  ultralytics.nn.modules.head.v10Detect        [3, [64, 128, 256]]           \n",
      "YOLOv10n summary: 385 layers, 2708210 parameters, 2708194 gradients, 8.4 GFLOPs\n",
      "\n",
      "Transferred 493/595 items from pretrained weights\n",
      "\u001b[34m\u001b[1mTensorBoard: \u001b[0mStart with 'tensorboard --logdir runs/detect/train37', view at http://localhost:6006/\n",
      "Freezing layer 'model.23.dfl.conv.weight'\n",
      "\u001b[34m\u001b[1mtrain: \u001b[0mScanning /Users/tanjiunkoon/Downloads/Others/yolov10/yolov10/Training Bir\u001b[0m\n",
      "\u001b[34m\u001b[1mval: \u001b[0mScanning /Users/tanjiunkoon/Downloads/Others/yolov10/yolov10/Training BirdN\u001b[0m\n",
      "Plotting labels to runs/detect/train37/labels.jpg... \n",
      "\u001b[34m\u001b[1moptimizer:\u001b[0m 'optimizer=auto' found, ignoring 'lr0=0.01' and 'momentum=0.937' and determining best 'optimizer', 'lr0' and 'momentum' automatically... \n",
      "\u001b[34m\u001b[1moptimizer:\u001b[0m AdamW(lr=0.001429, momentum=0.9) with parameter groups 95 weight(decay=0.0), 108 weight(decay=0.0005), 107 bias(decay=0.0)\n",
      "\u001b[34m\u001b[1mTensorBoard: \u001b[0mmodel graph visualization added ✅\n",
      "Image sizes 640 train, 640 val\n",
      "Using 0 dataloader workers\n",
      "Logging results to \u001b[1mruns/detect/train37\u001b[0m\n",
      "Starting training for 30 epochs...\n",
      "\n",
      "      Epoch    GPU_mem     box_om     cls_om     dfl_om     box_oo     cls_oo     dfl_oo  Instances       Size\n",
      "       1/30         0G     0.6783      2.468      1.261     0.5845       5.03   \n",
      "                 Class     Images  Instances      Box(P          R      mAP50  m\n",
      "                   all         45         44    0.00948          1      0.232      0.166\n",
      "\n",
      "      Epoch    GPU_mem     box_om     cls_om     dfl_om     box_oo     cls_oo     dfl_oo  Instances       Size\n",
      "       2/30         0G     0.7569      1.774       1.26     0.7284      4.047   \n",
      "                 Class     Images  Instances      Box(P          R      mAP50  m\n",
      "                   all         45         44      0.241      0.301      0.296      0.221\n",
      "\n",
      "      Epoch    GPU_mem     box_om     cls_om     dfl_om     box_oo     cls_oo     dfl_oo  Instances       Size\n",
      "       3/30         0G     0.7473      1.582      1.244     0.8006      3.243   \n",
      "                 Class     Images  Instances      Box(P          R      mAP50  m\n",
      "                   all         45         44      0.318      0.429      0.342      0.177\n",
      "\n",
      "      Epoch    GPU_mem     box_om     cls_om     dfl_om     box_oo     cls_oo     dfl_oo  Instances       Size\n",
      "       4/30         0G     0.7369      1.457      1.219     0.7833      2.566   \n",
      "                 Class     Images  Instances      Box(P          R      mAP50  m\n",
      "                   all         45         44      0.377      0.546      0.398      0.296\n",
      "\n",
      "      Epoch    GPU_mem     box_om     cls_om     dfl_om     box_oo     cls_oo     dfl_oo  Instances       Size\n",
      "       5/30         0G     0.7154      1.325      1.204     0.7647      2.062   \n",
      "                 Class     Images  Instances      Box(P          R      mAP50  m\n",
      "                   all         45         44      0.365       0.53      0.431      0.314\n",
      "\n",
      "      Epoch    GPU_mem     box_om     cls_om     dfl_om     box_oo     cls_oo     dfl_oo  Instances       Size\n",
      "       6/30         0G     0.6817       1.25      1.178     0.7465      1.748   \n",
      "                 Class     Images  Instances      Box(P          R      mAP50  m\n",
      "                   all         45         44      0.227      0.486       0.33       0.24\n",
      "\n",
      "      Epoch    GPU_mem     box_om     cls_om     dfl_om     box_oo     cls_oo     dfl_oo  Instances       Size\n",
      "       7/30         0G     0.6802      1.207      1.175     0.7569      1.579   \n",
      "                 Class     Images  Instances      Box(P          R      mAP50  m\n",
      "                   all         45         44      0.301      0.814      0.507      0.333\n",
      "\n",
      "      Epoch    GPU_mem     box_om     cls_om     dfl_om     box_oo     cls_oo     dfl_oo  Instances       Size\n",
      "       8/30         0G     0.6492      1.179      1.171     0.7183      1.486   \n",
      "                 Class     Images  Instances      Box(P          R      mAP50  m\n",
      "                   all         45         44      0.287      0.662      0.448      0.316\n",
      "\n",
      "      Epoch    GPU_mem     box_om     cls_om     dfl_om     box_oo     cls_oo     dfl_oo  Instances       Size\n",
      "       9/30         0G     0.6158      1.145      1.134     0.6993      1.374   \n",
      "                 Class     Images  Instances      Box(P          R      mAP50  m\n",
      "                   all         45         44      0.336      0.643      0.468      0.326\n",
      "\n",
      "      Epoch    GPU_mem     box_om     cls_om     dfl_om     box_oo     cls_oo     dfl_oo  Instances       Size\n",
      "      10/30         0G     0.6016      1.043      1.132     0.6644      1.218   \n",
      "                 Class     Images  Instances      Box(P          R      mAP50  m\n",
      "                   all         45         44       0.36      0.639      0.378      0.273\n",
      "\n",
      "      Epoch    GPU_mem     box_om     cls_om     dfl_om     box_oo     cls_oo     dfl_oo  Instances       Size\n",
      "      11/30         0G     0.5932      1.048      1.126     0.6607       1.19   \n",
      "                 Class     Images  Instances      Box(P          R      mAP50  m\n",
      "                   all         45         44      0.379      0.728      0.451      0.343\n",
      "\n",
      "      Epoch    GPU_mem     box_om     cls_om     dfl_om     box_oo     cls_oo     dfl_oo  Instances       Size\n",
      "      12/30         0G     0.5495     0.9931      1.093     0.6151       1.13   \n",
      "                 Class     Images  Instances      Box(P          R      mAP50  m\n",
      "                   all         45         44      0.393      0.852      0.601      0.442\n",
      "\n",
      "      Epoch    GPU_mem     box_om     cls_om     dfl_om     box_oo     cls_oo     dfl_oo  Instances       Size\n",
      "      13/30         0G     0.5715      0.979      1.104     0.6491      1.086   \n",
      "                 Class     Images  Instances      Box(P          R      mAP50  m\n",
      "                   all         45         44      0.495      0.801      0.601      0.431\n",
      "\n",
      "      Epoch    GPU_mem     box_om     cls_om     dfl_om     box_oo     cls_oo     dfl_oo  Instances       Size\n",
      "      14/30         0G     0.5595     0.9673      1.109     0.6306      1.069   \n",
      "                 Class     Images  Instances      Box(P          R      mAP50  m\n",
      "                   all         45         44      0.419      0.829      0.526      0.393\n",
      "\n",
      "      Epoch    GPU_mem     box_om     cls_om     dfl_om     box_oo     cls_oo     dfl_oo  Instances       Size\n",
      "      15/30         0G     0.5425     0.9473      1.093     0.6091      1.044   \n",
      "                 Class     Images  Instances      Box(P          R      mAP50  m\n",
      "                   all         45         44      0.466      0.754      0.597      0.454\n",
      "\n",
      "      Epoch    GPU_mem     box_om     cls_om     dfl_om     box_oo     cls_oo     dfl_oo  Instances       Size\n",
      "      16/30         0G     0.5312     0.9258      1.086     0.5908      1.008   \n",
      "                 Class     Images  Instances      Box(P          R      mAP50  m\n",
      "                   all         45         44      0.637      0.771      0.713      0.532\n",
      "\n",
      "      Epoch    GPU_mem     box_om     cls_om     dfl_om     box_oo     cls_oo     dfl_oo  Instances       Size\n",
      "      17/30         0G     0.5366     0.9087      1.091     0.5961      0.995   \n",
      "                 Class     Images  Instances      Box(P          R      mAP50  m\n",
      "                   all         45         44      0.477      0.583      0.499      0.374\n",
      "\n",
      "      Epoch    GPU_mem     box_om     cls_om     dfl_om     box_oo     cls_oo     dfl_oo  Instances       Size\n",
      "      18/30         0G      0.531     0.8756      1.086     0.5902     0.9439   \n",
      "                 Class     Images  Instances      Box(P          R      mAP50  m\n",
      "                   all         45         44      0.482      0.685      0.629       0.48\n",
      "\n",
      "      Epoch    GPU_mem     box_om     cls_om     dfl_om     box_oo     cls_oo     dfl_oo  Instances       Size\n",
      "      19/30         0G     0.5061     0.8795      1.079     0.5648     0.9389   \n",
      "                 Class     Images  Instances      Box(P          R      mAP50  m\n",
      "                   all         45         44      0.492      0.794      0.633      0.487\n",
      "\n",
      "      Epoch    GPU_mem     box_om     cls_om     dfl_om     box_oo     cls_oo     dfl_oo  Instances       Size\n",
      "      20/30         0G     0.5075     0.8712      1.073     0.5631      0.922   \n",
      "                 Class     Images  Instances      Box(P          R      mAP50  m\n",
      "                   all         45         44       0.49      0.835      0.613      0.468\n",
      "Closing dataloader mosaic\n",
      "\n",
      "      Epoch    GPU_mem     box_om     cls_om     dfl_om     box_oo     cls_oo     dfl_oo  Instances       Size\n",
      "      21/30         0G     0.2869     0.7401      0.925     0.3036       0.79   \n",
      "                 Class     Images  Instances      Box(P          R      mAP50  m\n",
      "                   all         45         44       0.56      0.731      0.679      0.517\n",
      "\n",
      "      Epoch    GPU_mem     box_om     cls_om     dfl_om     box_oo     cls_oo     dfl_oo  Instances       Size\n",
      "      22/30         0G     0.2729     0.6911     0.9232      0.296     0.7537   \n",
      "                 Class     Images  Instances      Box(P          R      mAP50  m\n",
      "                   all         45         44      0.342      0.817      0.516      0.394\n",
      "\n",
      "      Epoch    GPU_mem     box_om     cls_om     dfl_om     box_oo     cls_oo     dfl_oo  Instances       Size\n",
      "      23/30         0G     0.2633     0.6833      0.907     0.2934     0.7216   \n",
      "                 Class     Images  Instances      Box(P          R      mAP50  m\n",
      "                   all         45         44      0.494      0.802      0.695      0.513\n",
      "\n",
      "      Epoch    GPU_mem     box_om     cls_om     dfl_om     box_oo     cls_oo     dfl_oo  Instances       Size\n",
      "      24/30         0G     0.2568     0.6412     0.9141     0.2791     0.6802   \n",
      "                 Class     Images  Instances      Box(P          R      mAP50  m\n",
      "                   all         45         44      0.617      0.727      0.684      0.526\n",
      "\n",
      "      Epoch    GPU_mem     box_om     cls_om     dfl_om     box_oo     cls_oo     dfl_oo  Instances       Size\n",
      "      25/30         0G      0.249     0.6045     0.9067     0.2688     0.6318   \n",
      "                 Class     Images  Instances      Box(P          R      mAP50  m\n",
      "                   all         45         44      0.623      0.668      0.638      0.488\n",
      "\n",
      "      Epoch    GPU_mem     box_om     cls_om     dfl_om     box_oo     cls_oo     dfl_oo  Instances       Size\n",
      "      26/30         0G     0.2375     0.5637     0.8949     0.2496     0.5818   \n",
      "                 Class     Images  Instances      Box(P          R      mAP50  m\n",
      "                   all         45         44      0.662      0.826      0.719      0.542\n",
      "\n",
      "      Epoch    GPU_mem     box_om     cls_om     dfl_om     box_oo     cls_oo     dfl_oo  Instances       Size\n",
      "      27/30         0G     0.2322      0.571     0.8955     0.2504     0.6092   \n",
      "                 Class     Images  Instances      Box(P          R      mAP50  m\n",
      "                   all         45         44       0.67      0.598      0.733      0.563\n",
      "\n",
      "      Epoch    GPU_mem     box_om     cls_om     dfl_om     box_oo     cls_oo     dfl_oo  Instances       Size\n",
      "      28/30         0G     0.2217      0.535     0.8809     0.2313     0.5609   \n",
      "                 Class     Images  Instances      Box(P          R      mAP50  m\n",
      "                   all         45         44      0.394      0.583      0.622      0.471\n",
      "\n",
      "      Epoch    GPU_mem     box_om     cls_om     dfl_om     box_oo     cls_oo     dfl_oo  Instances       Size\n",
      "      29/30         0G     0.2244     0.5226     0.8861      0.236     0.5366   \n",
      "                 Class     Images  Instances      Box(P          R      mAP50  m\n",
      "                   all         45         44      0.523      0.731      0.574      0.435\n",
      "\n",
      "      Epoch    GPU_mem     box_om     cls_om     dfl_om     box_oo     cls_oo     dfl_oo  Instances       Size\n",
      "      30/30         0G     0.2116     0.4956     0.8761     0.2206     0.5141   \n",
      "                 Class     Images  Instances      Box(P          R      mAP50  m\n",
      "                   all         45         44      0.587      0.769      0.707      0.538\n",
      "\n",
      "30 epochs completed in 1.240 hours.\n",
      "Optimizer stripped from runs/detect/train37/weights/last.pt, 5.7MB\n",
      "Optimizer stripped from runs/detect/train37/weights/best.pt, 5.7MB\n",
      "\n",
      "Validating runs/detect/train37/weights/best.pt...\n",
      "Ultralytics YOLOv8.1.34 🚀 Python-3.11.7 torch-2.3.1 MPS (Apple M1 Pro)\n",
      "YOLOv10n summary (fused): 285 layers, 2695586 parameters, 0 gradients, 8.2 GFLOPs\n",
      "                 Class     Images  Instances      Box(P          R      mAP50  m\n",
      "                   all         45         44      0.558      0.695      0.733      0.563\n",
      "      Grade A Birdnest         45          8      0.402      0.875      0.766      0.613\n",
      "      Grade B Birdnest         45          9      0.484      0.524      0.555      0.417\n",
      "      Grade C Birdnest         45         27      0.787      0.686      0.878      0.661\n",
      "Speed: 2.1ms preprocess, 185.4ms inference, 0.0ms loss, 0.3ms postprocess per image\n",
      "Results saved to \u001b[1mruns/detect/train37\u001b[0m\n",
      "💡 Learn more at https://docs.ultralytics.com/modes/train\n"
     ]
    }
   ],
   "source": [
    "import torch\n",
    "\n",
    "# Check if MPS is available and set the device accordingly\n",
    "device = torch.device(\"mps\") if torch.backends.mps.is_available() else torch.device(\"cpu\")\n",
    "print(f\"Using device: {device}\")\n",
    "\n",
    "# Ensure you have the correct yolo command\n",
    "!yolo task=detect mode=train epochs=30 batch=16 plots=True model=weights/yolov10n.pt data=data.yaml device={device}"
   ]
  },
  {
   "cell_type": "code",
   "execution_count": null,
   "id": "dba94410",
   "metadata": {},
   "outputs": [
    {
     "name": "stdout",
     "output_type": "stream",
     "text": [
      "Using device: mps\n",
      "New https://pypi.org/project/ultralytics/8.2.58 available 😃 Update with 'pip install -U ultralytics'\n",
      "Ultralytics YOLOv8.1.34 🚀 Python-3.11.7 torch-2.3.1 MPS (Apple M1 Pro)\n",
      "\u001b[34m\u001b[1mengine/trainer: \u001b[0mtask=detect, mode=train, model=weights/yolov10n.pt, data=data.yaml, epochs=90, time=None, patience=100, batch=16, imgsz=640, save=True, save_period=-1, val_period=1, cache=False, device=mps, workers=8, project=None, name=train38, exist_ok=False, pretrained=True, optimizer=auto, verbose=True, seed=0, deterministic=True, single_cls=False, rect=False, cos_lr=False, close_mosaic=10, resume=False, amp=True, fraction=1.0, profile=False, freeze=None, multi_scale=False, overlap_mask=True, mask_ratio=4, dropout=0.0, val=True, split=val, save_json=False, save_hybrid=False, conf=None, iou=0.7, max_det=300, half=False, dnn=False, plots=True, source=None, vid_stride=1, stream_buffer=False, visualize=False, augment=False, agnostic_nms=False, classes=None, retina_masks=False, embed=None, show=False, save_frames=False, save_txt=False, save_conf=False, save_crop=False, show_labels=True, show_conf=True, show_boxes=True, line_width=None, format=torchscript, keras=False, optimize=False, int8=False, dynamic=False, simplify=False, opset=None, workspace=4, nms=False, lr0=0.01, lrf=0.01, momentum=0.937, weight_decay=0.0005, warmup_epochs=3.0, warmup_momentum=0.8, warmup_bias_lr=0.1, box=7.5, cls=0.5, dfl=1.5, pose=12.0, kobj=1.0, label_smoothing=0.0, nbs=64, hsv_h=0.015, hsv_s=0.7, hsv_v=0.4, degrees=0.0, translate=0.1, scale=0.5, shear=0.0, perspective=0.0, flipud=0.0, fliplr=0.5, bgr=0.0, mosaic=1.0, mixup=0.0, copy_paste=0.0, auto_augment=randaugment, erasing=0.4, crop_fraction=1.0, cfg=None, tracker=botsort.yaml, save_dir=runs/detect/train38\n",
      "Overriding model.yaml nc=80 with nc=3\n",
      "\n",
      "                   from  n    params  module                                       arguments                     \n",
      "  0                  -1  1       464  ultralytics.nn.modules.conv.Conv             [3, 16, 3, 2]                 \n",
      "  1                  -1  1      4672  ultralytics.nn.modules.conv.Conv             [16, 32, 3, 2]                \n",
      "  2                  -1  1      7360  ultralytics.nn.modules.block.C2f             [32, 32, 1, True]             \n",
      "  3                  -1  1     18560  ultralytics.nn.modules.conv.Conv             [32, 64, 3, 2]                \n",
      "  4                  -1  2     49664  ultralytics.nn.modules.block.C2f             [64, 64, 2, True]             \n",
      "  5                  -1  1      9856  ultralytics.nn.modules.block.SCDown          [64, 128, 3, 2]               \n",
      "  6                  -1  2    197632  ultralytics.nn.modules.block.C2f             [128, 128, 2, True]           \n",
      "  7                  -1  1     36096  ultralytics.nn.modules.block.SCDown          [128, 256, 3, 2]              \n",
      "  8                  -1  1    460288  ultralytics.nn.modules.block.C2f             [256, 256, 1, True]           \n",
      "  9                  -1  1    164608  ultralytics.nn.modules.block.SPPF            [256, 256, 5]                 \n",
      " 10                  -1  1    249728  ultralytics.nn.modules.block.PSA             [256, 256]                    \n",
      " 11                  -1  1         0  torch.nn.modules.upsampling.Upsample         [None, 2, 'nearest']          \n",
      " 12             [-1, 6]  1         0  ultralytics.nn.modules.conv.Concat           [1]                           \n",
      " 13                  -1  1    148224  ultralytics.nn.modules.block.C2f             [384, 128, 1]                 \n",
      " 14                  -1  1         0  torch.nn.modules.upsampling.Upsample         [None, 2, 'nearest']          \n",
      " 15             [-1, 4]  1         0  ultralytics.nn.modules.conv.Concat           [1]                           \n",
      " 16                  -1  1     37248  ultralytics.nn.modules.block.C2f             [192, 64, 1]                  \n",
      " 17                  -1  1     36992  ultralytics.nn.modules.conv.Conv             [64, 64, 3, 2]                \n",
      " 18            [-1, 13]  1         0  ultralytics.nn.modules.conv.Concat           [1]                           \n",
      " 19                  -1  1    123648  ultralytics.nn.modules.block.C2f             [192, 128, 1]                 \n",
      " 20                  -1  1     18048  ultralytics.nn.modules.block.SCDown          [128, 128, 3, 2]              \n",
      " 21            [-1, 10]  1         0  ultralytics.nn.modules.conv.Concat           [1]                           \n",
      " 22                  -1  1    282624  ultralytics.nn.modules.block.C2fCIB          [384, 256, 1, True, True]     \n",
      " 23        [16, 19, 22]  1    862498  ultralytics.nn.modules.head.v10Detect        [3, [64, 128, 256]]           \n",
      "YOLOv10n summary: 385 layers, 2708210 parameters, 2708194 gradients, 8.4 GFLOPs\n",
      "\n",
      "Transferred 493/595 items from pretrained weights\n",
      "\u001b[34m\u001b[1mTensorBoard: \u001b[0mStart with 'tensorboard --logdir runs/detect/train38', view at http://localhost:6006/\n",
      "Freezing layer 'model.23.dfl.conv.weight'\n",
      "\u001b[34m\u001b[1mtrain: \u001b[0mScanning /Users/tanjiunkoon/Downloads/Others/yolov10/yolov10/Training Bir\u001b[0m\n",
      "\u001b[34m\u001b[1mval: \u001b[0mScanning /Users/tanjiunkoon/Downloads/Others/yolov10/yolov10/Training BirdN\u001b[0m\n",
      "Plotting labels to runs/detect/train38/labels.jpg... \n",
      "\u001b[34m\u001b[1moptimizer:\u001b[0m 'optimizer=auto' found, ignoring 'lr0=0.01' and 'momentum=0.937' and determining best 'optimizer', 'lr0' and 'momentum' automatically... \n",
      "\u001b[34m\u001b[1moptimizer:\u001b[0m AdamW(lr=0.001429, momentum=0.9) with parameter groups 95 weight(decay=0.0), 108 weight(decay=0.0005), 107 bias(decay=0.0)\n",
      "\u001b[34m\u001b[1mTensorBoard: \u001b[0mmodel graph visualization added ✅\n",
      "Image sizes 640 train, 640 val\n",
      "Using 0 dataloader workers\n",
      "Logging results to \u001b[1mruns/detect/train38\u001b[0m\n",
      "Starting training for 90 epochs...\n",
      "\n",
      "      Epoch    GPU_mem     box_om     cls_om     dfl_om     box_oo     cls_oo     dfl_oo  Instances       Size\n",
      "       1/90         0G     0.6783      2.468      1.261     0.5845       5.03   \n",
      "                 Class     Images  Instances      Box(P          R      mAP50  m\n",
      "                   all         45         44    0.00948          1      0.232      0.166\n",
      "\n",
      "      Epoch    GPU_mem     box_om     cls_om     dfl_om     box_oo     cls_oo     dfl_oo  Instances       Size\n",
      "       2/90         0G     0.7512       1.78      1.259     0.7214      4.041   \n",
      "                 Class     Images  Instances      Box(P          R      mAP50  m\n",
      "                   all         45         44      0.543      0.187      0.252      0.131\n",
      "\n",
      "      Epoch    GPU_mem     box_om     cls_om     dfl_om     box_oo     cls_oo     dfl_oo  Instances       Size\n",
      "       3/90         0G     0.7635      1.579      1.241     0.7812      3.208   \n",
      "                 Class     Images  Instances      Box(P          R      mAP50  m\n",
      "                   all         45         44       0.26      0.483      0.339      0.239\n",
      "\n",
      "      Epoch    GPU_mem     box_om     cls_om     dfl_om     box_oo     cls_oo     dfl_oo  Instances       Size\n",
      "       4/90         0G     0.7318      1.443      1.216     0.7813      2.517   \n",
      "                 Class     Images  Instances      Box(P          R      mAP50  m\n",
      "                   all         45         44      0.249      0.698      0.318      0.188\n",
      "\n",
      "      Epoch    GPU_mem     box_om     cls_om     dfl_om     box_oo     cls_oo     dfl_oo  Instances       Size\n",
      "       5/90         0G     0.6911      1.323      1.189     0.7534      2.049   \n",
      "                 Class     Images  Instances      Box(P          R      mAP50  m\n",
      "                   all         45         44      0.305      0.373      0.373      0.269\n",
      "\n",
      "      Epoch    GPU_mem     box_om     cls_om     dfl_om     box_oo     cls_oo     dfl_oo  Instances       Size\n",
      "       6/90         0G     0.6732      1.229      1.175     0.7491      1.705   \n",
      "                 Class     Images  Instances      Box(P          R      mAP50  m\n",
      "                   all         45         44        0.3      0.594      0.418      0.306\n",
      "\n",
      "      Epoch    GPU_mem     box_om     cls_om     dfl_om     box_oo     cls_oo     dfl_oo  Instances       Size\n",
      "       7/90         0G     0.6731      1.195      1.176     0.7636      1.528   \n",
      "                 Class     Images  Instances      Box(P          R      mAP50  m\n",
      "                   all         45         44      0.359       0.69      0.468      0.356\n",
      "\n",
      "      Epoch    GPU_mem     box_om     cls_om     dfl_om     box_oo     cls_oo     dfl_oo  Instances       Size\n",
      "       8/90         0G     0.6683      1.168      1.187     0.7297      1.459   \n",
      "                 Class     Images  Instances      Box(P          R      mAP50  m\n",
      "                   all         45         44      0.411      0.591       0.52      0.367\n",
      "\n",
      "      Epoch    GPU_mem     box_om     cls_om     dfl_om     box_oo     cls_oo     dfl_oo  Instances       Size\n",
      "       9/90         0G     0.6489      1.153      1.151     0.7145      1.379   \n",
      "                 Class     Images  Instances      Box(P          R      mAP50  m\n",
      "                   all         45         44      0.364      0.704      0.481      0.343\n",
      "\n",
      "      Epoch    GPU_mem     box_om     cls_om     dfl_om     box_oo     cls_oo     dfl_oo  Instances       Size\n",
      "      10/90         0G     0.6202      1.062      1.149     0.6986      1.234   \n",
      "                 Class     Images  Instances      Box(P          R      mAP50  m\n",
      "                   all         45         44      0.422      0.653      0.547      0.414\n",
      "\n",
      "      Epoch    GPU_mem     box_om     cls_om     dfl_om     box_oo     cls_oo     dfl_oo  Instances       Size\n",
      "      11/90         0G     0.6224      1.063      1.148     0.6874       1.21   \n",
      "                 Class     Images  Instances      Box(P          R      mAP50  m\n",
      "                   all         45         44      0.358      0.667      0.454      0.337\n",
      "\n",
      "      Epoch    GPU_mem     box_om     cls_om     dfl_om     box_oo     cls_oo     dfl_oo  Instances       Size\n",
      "      12/90         0G     0.5746      1.009      1.099     0.6435      1.136   \n",
      "                 Class     Images  Instances      Box(P          R      mAP50  m\n",
      "                   all         45         44      0.469      0.767      0.569      0.427\n",
      "\n",
      "      Epoch    GPU_mem     box_om     cls_om     dfl_om     box_oo     cls_oo     dfl_oo  Instances       Size\n",
      "      13/90         0G     0.6015      1.034      1.123     0.6726      1.139   \n",
      "                 Class     Images  Instances      Box(P          R      mAP50  m\n",
      "                   all         45         44      0.421      0.864      0.581       0.44\n",
      "\n",
      "      Epoch    GPU_mem     box_om     cls_om     dfl_om     box_oo     cls_oo     dfl_oo  Instances       Size\n",
      "      14/90         0G     0.5868      1.006      1.124      0.654      1.104   \n",
      "                 Class     Images  Instances      Box(P          R      mAP50  m\n",
      "                   all         45         44      0.375       0.65      0.569      0.405\n",
      "\n",
      "      Epoch    GPU_mem     box_om     cls_om     dfl_om     box_oo     cls_oo     dfl_oo  Instances       Size\n",
      "      15/90         0G     0.5995      1.003      1.127     0.6699      1.084   \n",
      "                 Class     Images  Instances      Box(P          R      mAP50  m\n",
      "                   all         45         44      0.453      0.827       0.56      0.416\n",
      "\n",
      "      Epoch    GPU_mem     box_om     cls_om     dfl_om     box_oo     cls_oo     dfl_oo  Instances       Size\n",
      "      16/90         0G     0.5751     0.9761       1.11     0.6516      1.055   \n",
      "                 Class     Images  Instances      Box(P          R      mAP50  m\n",
      "                   all         45         44      0.369      0.821      0.558      0.416\n",
      "\n",
      "      Epoch    GPU_mem     box_om     cls_om     dfl_om     box_oo     cls_oo     dfl_oo  Instances       Size\n",
      "      17/90         0G     0.5781     0.9768      1.108     0.6437      1.035   \n",
      "                 Class     Images  Instances      Box(P          R      mAP50  m\n",
      "                   all         45         44      0.397      0.648      0.468      0.354\n",
      "\n",
      "      Epoch    GPU_mem     box_om     cls_om     dfl_om     box_oo     cls_oo     dfl_oo  Instances       Size\n",
      "      18/90         0G     0.5561     0.9397      1.104     0.6277     0.9849   \n",
      "                 Class     Images  Instances      Box(P          R      mAP50  m\n",
      "                   all         45         44      0.489      0.803      0.573      0.423\n",
      "\n",
      "      Epoch    GPU_mem     box_om     cls_om     dfl_om     box_oo     cls_oo     dfl_oo  Instances       Size\n",
      "      19/90         0G     0.5553     0.9585      1.105     0.6305     0.9901   \n",
      "                 Class     Images  Instances      Box(P          R      mAP50  m\n",
      "                   all         45         44      0.423      0.801      0.556      0.421\n",
      "\n",
      "      Epoch    GPU_mem     box_om     cls_om     dfl_om     box_oo     cls_oo     dfl_oo  Instances       Size\n",
      "      20/90         0G     0.5684     0.9496      1.106       0.64     0.9738   \n",
      "                 Class     Images  Instances      Box(P          R      mAP50  m\n",
      "                   all         45         44      0.531      0.746      0.604      0.456\n",
      "\n",
      "      Epoch    GPU_mem     box_om     cls_om     dfl_om     box_oo     cls_oo     dfl_oo  Instances       Size\n",
      "      21/90         0G     0.5642     0.9308      1.103     0.6478     0.9764   \n",
      "                 Class     Images  Instances      Box(P          R      mAP50  m\n",
      "                   all         45         44      0.467      0.731      0.582      0.427\n",
      "\n",
      "      Epoch    GPU_mem     box_om     cls_om     dfl_om     box_oo     cls_oo     dfl_oo  Instances       Size\n",
      "      22/90         0G     0.5457      0.911      1.088     0.6257     0.9384   \n",
      "                 Class     Images  Instances      Box(P          R      mAP50  m\n",
      "                   all         45         44      0.466      0.623      0.593      0.441\n",
      "\n",
      "      Epoch    GPU_mem     box_om     cls_om     dfl_om     box_oo     cls_oo     dfl_oo  Instances       Size\n",
      "      23/90         0G     0.5249     0.9054      1.078     0.5943     0.9264   \n",
      "                 Class     Images  Instances      Box(P          R      mAP50  m\n",
      "                   all         45         44      0.583      0.678      0.619      0.466\n",
      "\n",
      "      Epoch    GPU_mem     box_om     cls_om     dfl_om     box_oo     cls_oo     dfl_oo  Instances       Size\n",
      "      24/90         0G     0.5323     0.8817       1.09     0.6179     0.9062   \n",
      "                 Class     Images  Instances      Box(P          R      mAP50  m\n",
      "                   all         45         44       0.54      0.835      0.626       0.48\n",
      "\n",
      "      Epoch    GPU_mem     box_om     cls_om     dfl_om     box_oo     cls_oo     dfl_oo  Instances       Size\n",
      "      25/90         0G     0.5289     0.9152      1.097     0.5978     0.9466   \n",
      "                 Class     Images  Instances      Box(P          R      mAP50  m\n",
      "                   all         45         44      0.446      0.845      0.586      0.436\n",
      "\n",
      "      Epoch    GPU_mem     box_om     cls_om     dfl_om     box_oo     cls_oo     dfl_oo  Instances       Size\n",
      "      26/90         0G     0.5405     0.9057      1.093     0.6051     0.9286   \n",
      "                 Class     Images  Instances      Box(P          R      mAP50  m\n",
      "                   all         45         44       0.49      0.698      0.559       0.42\n",
      "\n",
      "      Epoch    GPU_mem     box_om     cls_om     dfl_om     box_oo     cls_oo     dfl_oo  Instances       Size\n",
      "      27/90         0G     0.5118     0.8689      1.072      0.578      0.883   \n",
      "                 Class     Images  Instances      Box(P          R      mAP50  m\n",
      "                   all         45         44      0.552      0.837      0.665      0.504\n",
      "\n",
      "      Epoch    GPU_mem     box_om     cls_om     dfl_om     box_oo     cls_oo     dfl_oo  Instances       Size\n",
      "      28/90         0G     0.5133     0.8447       1.07     0.5806     0.8485   \n",
      "                 Class     Images  Instances      Box(P          R      mAP50  m\n",
      "                   all         45         44      0.445      0.729      0.578      0.435\n",
      "\n",
      "      Epoch    GPU_mem     box_om     cls_om     dfl_om     box_oo     cls_oo     dfl_oo  Instances       Size\n",
      "      29/90         0G     0.5325     0.8514      1.088     0.6064     0.8524   \n",
      "                 Class     Images  Instances      Box(P          R      mAP50  m\n",
      "                   all         45         44      0.505      0.859       0.64      0.488\n",
      "\n",
      "      Epoch    GPU_mem     box_om     cls_om     dfl_om     box_oo     cls_oo     dfl_oo  Instances       Size\n",
      "      30/90         0G     0.5179     0.8602      1.088     0.5767     0.8608   \n",
      "                 Class     Images  Instances      Box(P          R      mAP50  m\n",
      "                   all         45         44      0.557       0.67      0.666      0.507\n",
      "\n",
      "      Epoch    GPU_mem     box_om     cls_om     dfl_om     box_oo     cls_oo     dfl_oo  Instances       Size\n",
      "      31/90         0G     0.5353     0.8727      1.094     0.5962     0.8847   \n",
      "                 Class     Images  Instances      Box(P          R      mAP50  m\n",
      "                   all         45         44      0.414       0.78      0.604      0.454\n",
      "\n",
      "      Epoch    GPU_mem     box_om     cls_om     dfl_om     box_oo     cls_oo     dfl_oo  Instances       Size\n",
      "      32/90         0G     0.5003      0.825      1.069     0.5638     0.8276   \n",
      "                 Class     Images  Instances      Box(P          R      mAP50  m\n",
      "                   all         45         44       0.48      0.789       0.58      0.446\n",
      "\n",
      "      Epoch    GPU_mem     box_om     cls_om     dfl_om     box_oo     cls_oo     dfl_oo  Instances       Size\n",
      "      33/90         0G     0.5322     0.8132      1.083     0.6014     0.8049   \n",
      "                 Class     Images  Instances      Box(P          R      mAP50  m\n",
      "                   all         45         44      0.418       0.84      0.584      0.459\n",
      "\n",
      "      Epoch    GPU_mem     box_om     cls_om     dfl_om     box_oo     cls_oo     dfl_oo  Instances       Size\n",
      "      34/90         0G     0.5331     0.8241      1.097     0.5884     0.8398   \n",
      "                 Class     Images  Instances      Box(P          R      mAP50  m\n",
      "                   all         45         44      0.496      0.779      0.571      0.433\n",
      "\n",
      "      Epoch    GPU_mem     box_om     cls_om     dfl_om     box_oo     cls_oo     dfl_oo  Instances       Size\n",
      "      35/90         0G     0.5242     0.8253      1.095     0.5906     0.8246   \n",
      "                 Class     Images  Instances      Box(P          R      mAP50  m\n",
      "                   all         45         44      0.516      0.682      0.682      0.511\n",
      "\n",
      "      Epoch    GPU_mem     box_om     cls_om     dfl_om     box_oo     cls_oo     dfl_oo  Instances       Size\n",
      "      36/90         0G     0.5145      0.849      1.077     0.5764     0.8627   \n",
      "                 Class     Images  Instances      Box(P          R      mAP50  m\n",
      "                   all         45         44      0.408      0.827      0.625      0.468\n",
      "\n",
      "      Epoch    GPU_mem     box_om     cls_om     dfl_om     box_oo     cls_oo     dfl_oo  Instances       Size\n",
      "      37/90         0G     0.5024     0.8237      1.068     0.5592     0.8271   \n",
      "                 Class     Images  Instances      Box(P          R      mAP50  m\n",
      "                   all         45         44       0.48      0.854      0.697      0.517\n",
      "\n",
      "      Epoch    GPU_mem     box_om     cls_om     dfl_om     box_oo     cls_oo     dfl_oo  Instances       Size\n",
      "      38/90         0G     0.5076     0.7745       1.08     0.5638     0.7771   \n",
      "                 Class     Images  Instances      Box(P          R      mAP50  m\n",
      "                   all         45         44       0.53      0.819      0.681      0.534\n",
      "\n",
      "      Epoch    GPU_mem     box_om     cls_om     dfl_om     box_oo     cls_oo     dfl_oo  Instances       Size\n",
      "      39/90         0G     0.5024     0.7718      1.071     0.5638     0.7622   \n",
      "                 Class     Images  Instances      Box(P          R      mAP50  m\n",
      "                   all         45         44      0.563      0.778      0.695      0.537\n",
      "\n",
      "      Epoch    GPU_mem     box_om     cls_om     dfl_om     box_oo     cls_oo     dfl_oo  Instances       Size\n",
      "      40/90         0G      0.488     0.7535      1.069     0.5442     0.7492   \n",
      "                 Class     Images  Instances      Box(P          R      mAP50  m\n",
      "                   all         45         44       0.42      0.653      0.595      0.456\n",
      "\n",
      "      Epoch    GPU_mem     box_om     cls_om     dfl_om     box_oo     cls_oo     dfl_oo  Instances       Size\n",
      "      41/90         0G     0.4894     0.7878      1.055     0.5578     0.7933   \n",
      "                 Class     Images  Instances      Box(P          R      mAP50  m\n",
      "                   all         45         44      0.542      0.778      0.675      0.525\n",
      "\n",
      "      Epoch    GPU_mem     box_om     cls_om     dfl_om     box_oo     cls_oo     dfl_oo  Instances       Size\n",
      "      42/90         0G     0.4758     0.7666      1.055     0.5354     0.7529   \n",
      "                 Class     Images  Instances      Box(P          R      mAP50  m\n",
      "                   all         45         44      0.492      0.823      0.623      0.476\n",
      "\n",
      "      Epoch    GPU_mem     box_om     cls_om     dfl_om     box_oo     cls_oo     dfl_oo  Instances       Size\n",
      "      43/90         0G     0.4979     0.7348      1.057     0.5616     0.7239   \n",
      "                 Class     Images  Instances      Box(P          R      mAP50  m\n",
      "                   all         45         44      0.458      0.773      0.611      0.445\n",
      "\n",
      "      Epoch    GPU_mem     box_om     cls_om     dfl_om     box_oo     cls_oo     dfl_oo  Instances       Size\n",
      "      44/90         0G     0.4875     0.7277      1.066     0.5481     0.7225   \n",
      "                 Class     Images  Instances      Box(P          R      mAP50  m\n",
      "                   all         45         44      0.522       0.69      0.567      0.432\n",
      "\n",
      "      Epoch    GPU_mem     box_om     cls_om     dfl_om     box_oo     cls_oo     dfl_oo  Instances       Size\n",
      "      45/90         0G     0.4794     0.7547      1.067     0.5369     0.7575   \n",
      "                 Class     Images  Instances      Box(P          R      mAP50  m\n",
      "                   all         45         44      0.583      0.731      0.728      0.549\n",
      "\n",
      "      Epoch    GPU_mem     box_om     cls_om     dfl_om     box_oo     cls_oo     dfl_oo  Instances       Size\n",
      "      46/90         0G     0.4779     0.7036      1.056     0.5406      0.689   \n",
      "                 Class     Images  Instances      Box(P          R      mAP50  m\n",
      "                   all         45         44      0.481       0.62      0.624       0.48\n",
      "\n",
      "      Epoch    GPU_mem     box_om     cls_om     dfl_om     box_oo     cls_oo     dfl_oo  Instances       Size\n",
      "      47/90         0G     0.4741     0.7081      1.053     0.5257     0.6992   \n",
      "                 Class     Images  Instances      Box(P          R      mAP50  m\n",
      "                   all         45         44      0.459      0.748      0.582      0.444\n",
      "\n",
      "      Epoch    GPU_mem     box_om     cls_om     dfl_om     box_oo     cls_oo     dfl_oo  Instances       Size\n",
      "      48/90         0G       0.46     0.7064      1.046     0.5194     0.6945   \n",
      "                 Class     Images  Instances      Box(P          R      mAP50  m\n",
      "                   all         45         44      0.611       0.69      0.705      0.541\n",
      "\n",
      "      Epoch    GPU_mem     box_om     cls_om     dfl_om     box_oo     cls_oo     dfl_oo  Instances       Size\n",
      "      49/90         0G     0.4738     0.6677      1.049     0.5351     0.6475   \n",
      "                 Class     Images  Instances      Box(P          R      mAP50  m\n",
      "                   all         45         44      0.579      0.855       0.73       0.55\n",
      "\n",
      "      Epoch    GPU_mem     box_om     cls_om     dfl_om     box_oo     cls_oo     dfl_oo  Instances       Size\n",
      "      50/90         0G     0.4715     0.6647      1.052     0.5325     0.6478   \n",
      "                 Class     Images  Instances      Box(P          R      mAP50  m\n",
      "                   all         45         44      0.658      0.656        0.7      0.531\n",
      "\n",
      "      Epoch    GPU_mem     box_om     cls_om     dfl_om     box_oo     cls_oo     dfl_oo  Instances       Size\n",
      "      51/90         0G     0.4786     0.7124      1.062     0.5359     0.7154   \n",
      "Traceback (most recent call last):\n",
      "  File \"/opt/anaconda3/bin/yolo\", line 8, in <module>\n",
      "    sys.exit(entrypoint())\n",
      "             ^^^^^^^^^^^^\n",
      "  File \"/opt/anaconda3/lib/python3.11/site-packages/ultralytics/cfg/__init__.py\", line 594, in entrypoint\n",
      "    getattr(model, mode)(**overrides)  # default args from model\n",
      "    ^^^^^^^^^^^^^^^^^^^^^^^^^^^^^^^^^\n",
      "  File \"/opt/anaconda3/lib/python3.11/site-packages/ultralytics/engine/model.py\", line 657, in train\n",
      "    self.trainer.train()\n",
      "  File \"/opt/anaconda3/lib/python3.11/site-packages/ultralytics/engine/trainer.py\", line 213, in train\n",
      "    self._do_train(world_size)\n",
      "  File \"/opt/anaconda3/lib/python3.11/site-packages/ultralytics/engine/trainer.py\", line 389, in _do_train\n",
      "    self.scaler.scale(self.loss).backward()\n",
      "  File \"/opt/anaconda3/lib/python3.11/site-packages/torch/_tensor.py\", line 525, in backward\n",
      "    torch.autograd.backward(\n",
      "  File \"/opt/anaconda3/lib/python3.11/site-packages/torch/autograd/__init__.py\", line 267, in backward\n",
      "    _engine_run_backward(\n",
      "  File \"/opt/anaconda3/lib/python3.11/site-packages/torch/autograd/graph.py\", line 744, in _engine_run_backward\n",
      "    return Variable._execution_engine.run_backward(  # Calls into the C++ engine to run the backward pass\n",
      "           ^^^^^^^^^^^^^^^^^^^^^^^^^^^^^^^^^^^^^^^^^^^^^^^^^^^^^^^^^^^^^^^^^^^^^^^^^^^^^^^^^^^^^^^^^^^^^^\n",
      "RuntimeError: MPS backend out of memory (MPS allocated: 4.82 GB, other allocations: 13.29 GB, max allowed: 18.13 GB). Tried to allocate 32.81 MB on private pool. Use PYTORCH_MPS_HIGH_WATERMARK_RATIO=0.0 to disable upper limit for memory allocations (may cause system failure).\n"
     ]
    }
   ],
   "source": [
    "import torch\n",
    "\n",
    "# Check if MPS is available and set the device accordingly\n",
    "device = torch.device(\"mps\") if torch.backends.mps.is_available() else torch.device(\"cpu\")\n",
    "print(f\"Using device: {device}\")\n",
    "\n",
    "# Ensure you have the correct yolo command\n",
    "!yolo task=detect mode=train epochs=90 batch=16 plots=True model=weights/yolov10n.pt data=data.yaml device={device}"
   ]
  },
  {
   "cell_type": "code",
   "execution_count": null,
   "id": "87172324",
   "metadata": {},
   "outputs": [
    {
     "name": "stdout",
     "output_type": "stream",
     "text": [
      "Using device: mps\n",
      "New https://pypi.org/project/ultralytics/8.2.58 available 😃 Update with 'pip install -U ultralytics'\n",
      "Ultralytics YOLOv8.1.34 🚀 Python-3.11.7 torch-2.3.1 MPS (Apple M1 Pro)\n",
      "\u001b[34m\u001b[1mengine/trainer: \u001b[0mtask=detect, mode=train, model=weights/yolov10n.pt, data=data.yaml, epochs=45, time=None, patience=100, batch=8, imgsz=640, save=True, save_period=-1, val_period=1, cache=False, device=mps, workers=8, project=None, name=train39, exist_ok=False, pretrained=True, optimizer=auto, verbose=True, seed=0, deterministic=True, single_cls=False, rect=False, cos_lr=False, close_mosaic=10, resume=False, amp=True, fraction=1.0, profile=False, freeze=None, multi_scale=False, overlap_mask=True, mask_ratio=4, dropout=0.0, val=True, split=val, save_json=False, save_hybrid=False, conf=None, iou=0.7, max_det=300, half=False, dnn=False, plots=True, source=None, vid_stride=1, stream_buffer=False, visualize=False, augment=False, agnostic_nms=False, classes=None, retina_masks=False, embed=None, show=False, save_frames=False, save_txt=False, save_conf=False, save_crop=False, show_labels=True, show_conf=True, show_boxes=True, line_width=None, format=torchscript, keras=False, optimize=False, int8=False, dynamic=False, simplify=False, opset=None, workspace=4, nms=False, lr0=0.01, lrf=0.01, momentum=0.937, weight_decay=0.0005, warmup_epochs=3.0, warmup_momentum=0.8, warmup_bias_lr=0.1, box=7.5, cls=0.5, dfl=1.5, pose=12.0, kobj=1.0, label_smoothing=0.0, nbs=64, hsv_h=0.015, hsv_s=0.7, hsv_v=0.4, degrees=0.0, translate=0.1, scale=0.5, shear=0.0, perspective=0.0, flipud=0.0, fliplr=0.5, bgr=0.0, mosaic=1.0, mixup=0.0, copy_paste=0.0, auto_augment=randaugment, erasing=0.4, crop_fraction=1.0, cfg=None, tracker=botsort.yaml, save_dir=runs/detect/train39\n",
      "Overriding model.yaml nc=80 with nc=3\n",
      "\n",
      "                   from  n    params  module                                       arguments                     \n",
      "  0                  -1  1       464  ultralytics.nn.modules.conv.Conv             [3, 16, 3, 2]                 \n",
      "  1                  -1  1      4672  ultralytics.nn.modules.conv.Conv             [16, 32, 3, 2]                \n",
      "  2                  -1  1      7360  ultralytics.nn.modules.block.C2f             [32, 32, 1, True]             \n",
      "  3                  -1  1     18560  ultralytics.nn.modules.conv.Conv             [32, 64, 3, 2]                \n",
      "  4                  -1  2     49664  ultralytics.nn.modules.block.C2f             [64, 64, 2, True]             \n",
      "  5                  -1  1      9856  ultralytics.nn.modules.block.SCDown          [64, 128, 3, 2]               \n",
      "  6                  -1  2    197632  ultralytics.nn.modules.block.C2f             [128, 128, 2, True]           \n",
      "  7                  -1  1     36096  ultralytics.nn.modules.block.SCDown          [128, 256, 3, 2]              \n",
      "  8                  -1  1    460288  ultralytics.nn.modules.block.C2f             [256, 256, 1, True]           \n",
      "  9                  -1  1    164608  ultralytics.nn.modules.block.SPPF            [256, 256, 5]                 \n",
      " 10                  -1  1    249728  ultralytics.nn.modules.block.PSA             [256, 256]                    \n",
      " 11                  -1  1         0  torch.nn.modules.upsampling.Upsample         [None, 2, 'nearest']          \n",
      " 12             [-1, 6]  1         0  ultralytics.nn.modules.conv.Concat           [1]                           \n",
      " 13                  -1  1    148224  ultralytics.nn.modules.block.C2f             [384, 128, 1]                 \n",
      " 14                  -1  1         0  torch.nn.modules.upsampling.Upsample         [None, 2, 'nearest']          \n",
      " 15             [-1, 4]  1         0  ultralytics.nn.modules.conv.Concat           [1]                           \n",
      " 16                  -1  1     37248  ultralytics.nn.modules.block.C2f             [192, 64, 1]                  \n",
      " 17                  -1  1     36992  ultralytics.nn.modules.conv.Conv             [64, 64, 3, 2]                \n",
      " 18            [-1, 13]  1         0  ultralytics.nn.modules.conv.Concat           [1]                           \n",
      " 19                  -1  1    123648  ultralytics.nn.modules.block.C2f             [192, 128, 1]                 \n",
      " 20                  -1  1     18048  ultralytics.nn.modules.block.SCDown          [128, 128, 3, 2]              \n",
      " 21            [-1, 10]  1         0  ultralytics.nn.modules.conv.Concat           [1]                           \n",
      " 22                  -1  1    282624  ultralytics.nn.modules.block.C2fCIB          [384, 256, 1, True, True]     \n",
      " 23        [16, 19, 22]  1    862498  ultralytics.nn.modules.head.v10Detect        [3, [64, 128, 256]]           \n",
      "YOLOv10n summary: 385 layers, 2708210 parameters, 2708194 gradients, 8.4 GFLOPs\n",
      "\n",
      "Transferred 493/595 items from pretrained weights\n",
      "\u001b[34m\u001b[1mTensorBoard: \u001b[0mStart with 'tensorboard --logdir runs/detect/train39', view at http://localhost:6006/\n",
      "Freezing layer 'model.23.dfl.conv.weight'\n",
      "\u001b[34m\u001b[1mtrain: \u001b[0mScanning /Users/tanjiunkoon/Downloads/Others/yolov10/yolov10/Training Bir\u001b[0m\n",
      "\u001b[34m\u001b[1mval: \u001b[0mScanning /Users/tanjiunkoon/Downloads/Others/yolov10/yolov10/Training BirdN\u001b[0m\n",
      "Plotting labels to runs/detect/train39/labels.jpg... \n",
      "\u001b[34m\u001b[1moptimizer:\u001b[0m 'optimizer=auto' found, ignoring 'lr0=0.01' and 'momentum=0.937' and determining best 'optimizer', 'lr0' and 'momentum' automatically... \n",
      "\u001b[34m\u001b[1moptimizer:\u001b[0m AdamW(lr=0.001429, momentum=0.9) with parameter groups 95 weight(decay=0.0), 108 weight(decay=0.0005), 107 bias(decay=0.0)\n",
      "\u001b[34m\u001b[1mTensorBoard: \u001b[0mmodel graph visualization added ✅\n",
      "Image sizes 640 train, 640 val\n",
      "Using 0 dataloader workers\n",
      "Logging results to \u001b[1mruns/detect/train39\u001b[0m\n",
      "Starting training for 45 epochs...\n",
      "\n",
      "      Epoch    GPU_mem     box_om     cls_om     dfl_om     box_oo     cls_oo     dfl_oo  Instances       Size\n",
      "       1/45         0G     0.6997      2.361       1.26     0.6071      4.947   \n",
      "                 Class     Images  Instances      Box(P          R      mAP50  m\n",
      "                   all         45         44      0.762       0.21      0.199      0.137\n",
      "\n",
      "      Epoch    GPU_mem     box_om     cls_om     dfl_om     box_oo     cls_oo     dfl_oo  Instances       Size\n",
      "       2/45         0G     0.7551      1.766      1.259     0.7644      3.921   \n",
      "                 Class     Images  Instances      Box(P          R      mAP50  m\n",
      "                   all         45         44      0.301      0.483       0.39      0.257\n",
      "\n",
      "      Epoch    GPU_mem     box_om     cls_om     dfl_om     box_oo     cls_oo     dfl_oo  Instances       Size\n",
      "       3/45         0G     0.7683      1.571      1.249     0.8149      2.989   \n",
      "                 Class     Images  Instances      Box(P          R      mAP50  m\n",
      "                   all         45         44      0.278      0.577       0.42      0.298\n",
      "\n",
      "      Epoch    GPU_mem     box_om     cls_om     dfl_om     box_oo     cls_oo     dfl_oo  Instances       Size\n",
      "       4/45         0G     0.7531      1.423      1.225     0.8266      2.369   \n",
      "                 Class     Images  Instances      Box(P          R      mAP50  m\n",
      "                   all         45         44      0.494      0.555      0.567      0.409\n",
      "\n",
      "      Epoch    GPU_mem     box_om     cls_om     dfl_om     box_oo     cls_oo     dfl_oo  Instances       Size\n",
      "       5/45         0G     0.7256       1.34      1.211     0.7992      1.951   \n",
      "                 Class     Images  Instances      Box(P          R      mAP50  m\n",
      "                   all         45         44      0.412      0.628      0.484       0.35\n",
      "\n",
      "      Epoch    GPU_mem     box_om     cls_om     dfl_om     box_oo     cls_oo     dfl_oo  Instances       Size\n",
      "       6/45         0G     0.7058       1.25      1.191     0.7615      1.666   \n",
      "                 Class     Images  Instances      Box(P          R      mAP50  m\n",
      "                   all         45         44      0.303      0.724      0.463      0.349\n",
      "\n",
      "      Epoch    GPU_mem     box_om     cls_om     dfl_om     box_oo     cls_oo     dfl_oo  Instances       Size\n",
      "       7/45         0G     0.6646      1.184      1.172     0.7294      1.481   \n",
      "                 Class     Images  Instances      Box(P          R      mAP50  m\n",
      "                   all         45         44      0.434      0.731      0.472      0.346\n",
      "\n",
      "      Epoch    GPU_mem     box_om     cls_om     dfl_om     box_oo     cls_oo     dfl_oo  Instances       Size\n",
      "       8/45         0G     0.6637      1.175      1.182     0.7519      1.417   \n",
      "                 Class     Images  Instances      Box(P          R      mAP50  m\n",
      "                   all         45         44      0.329      0.667      0.507      0.371\n",
      "\n",
      "      Epoch    GPU_mem     box_om     cls_om     dfl_om     box_oo     cls_oo     dfl_oo  Instances       Size\n",
      "       9/45         0G     0.6209      1.106      1.137     0.7022      1.263   \n",
      "                 Class     Images  Instances      Box(P          R      mAP50  m\n",
      "                   all         45         44      0.369      0.864      0.504      0.384\n",
      "\n",
      "      Epoch    GPU_mem     box_om     cls_om     dfl_om     box_oo     cls_oo     dfl_oo  Instances       Size\n",
      "      10/45         0G     0.6344      1.087      1.155     0.7115      1.217   \n",
      "                 Class     Images  Instances      Box(P          R      mAP50  m\n",
      "                   all         45         44      0.451      0.943      0.613      0.451\n",
      "\n",
      "      Epoch    GPU_mem     box_om     cls_om     dfl_om     box_oo     cls_oo     dfl_oo  Instances       Size\n",
      "      11/45         0G      0.641      1.057      1.165     0.7173      1.166   \n",
      "                 Class     Images  Instances      Box(P          R      mAP50  m\n",
      "                   all         45         44      0.354      0.819      0.457       0.34\n",
      "\n",
      "      Epoch    GPU_mem     box_om     cls_om     dfl_om     box_oo     cls_oo     dfl_oo  Instances       Size\n",
      "      12/45         0G     0.5964      1.051      1.122     0.6742      1.121   \n",
      "                 Class     Images  Instances      Box(P          R      mAP50  m\n",
      "                   all         45         44      0.449       0.88      0.601      0.437\n",
      "\n",
      "      Epoch    GPU_mem     box_om     cls_om     dfl_om     box_oo     cls_oo     dfl_oo  Instances       Size\n",
      "      13/45         0G     0.5823     0.9984       1.11      0.666      1.076   \n",
      "                 Class     Images  Instances      Box(P          R      mAP50  m\n",
      "                   all         45         44      0.445      0.733      0.582      0.425\n",
      "\n",
      "      Epoch    GPU_mem     box_om     cls_om     dfl_om     box_oo     cls_oo     dfl_oo  Instances       Size\n",
      "      14/45         0G     0.5715      1.022      1.121     0.6516      1.091   \n",
      "                 Class     Images  Instances      Box(P          R      mAP50  m\n",
      "                   all         45         44      0.453       0.81      0.591      0.435\n",
      "\n",
      "      Epoch    GPU_mem     box_om     cls_om     dfl_om     box_oo     cls_oo     dfl_oo  Instances       Size\n",
      "      15/45         0G     0.5596     0.9816      1.115     0.6453      1.052   \n",
      "                 Class     Images  Instances      Box(P          R      mAP50  m\n",
      "                   all         45         44      0.426      0.903      0.579       0.43\n",
      "\n",
      "      Epoch    GPU_mem     box_om     cls_om     dfl_om     box_oo     cls_oo     dfl_oo  Instances       Size\n",
      "      16/45         0G     0.5683      0.993      1.109     0.6429      1.047   \n",
      "                 Class     Images  Instances      Box(P          R      mAP50  m\n",
      "                   all         45         44      0.405      0.821      0.586      0.435\n",
      "\n",
      "      Epoch    GPU_mem     box_om     cls_om     dfl_om     box_oo     cls_oo     dfl_oo  Instances       Size\n",
      "      17/45         0G     0.5565     0.9778      1.113     0.6383      1.033   \n",
      "                 Class     Images  Instances      Box(P          R      mAP50  m\n",
      "                   all         45         44      0.533      0.778      0.598      0.451\n",
      "\n",
      "      Epoch    GPU_mem     box_om     cls_om     dfl_om     box_oo     cls_oo     dfl_oo  Instances       Size\n",
      "      18/45         0G     0.5468     0.9518      1.099     0.6144     0.9836   \n",
      "                 Class     Images  Instances      Box(P          R      mAP50  m\n",
      "                   all         45         44      0.472      0.921      0.629      0.473\n",
      "\n",
      "      Epoch    GPU_mem     box_om     cls_om     dfl_om     box_oo     cls_oo     dfl_oo  Instances       Size\n",
      "      19/45         0G     0.5493     0.9514      1.111     0.6385     0.9902   \n",
      "                 Class     Images  Instances      Box(P          R      mAP50  m\n",
      "                   all         45         44       0.47      0.774      0.604      0.454\n",
      "\n",
      "      Epoch    GPU_mem     box_om     cls_om     dfl_om     box_oo     cls_oo     dfl_oo  Instances       Size\n",
      "      20/45         0G      0.562     0.9794      1.109     0.6362      1.005   \n",
      "                 Class     Images  Instances      Box(P          R      mAP50  m\n",
      "                   all         45         44      0.448      0.938      0.592      0.453\n",
      "\n",
      "      Epoch    GPU_mem     box_om     cls_om     dfl_om     box_oo     cls_oo     dfl_oo  Instances       Size\n",
      "      21/45         0G     0.5427     0.9235      1.094     0.6052     0.9407   \n",
      "                 Class     Images  Instances      Box(P          R      mAP50  m\n",
      "                   all         45         44      0.478      0.861      0.608      0.463\n",
      "\n",
      "      Epoch    GPU_mem     box_om     cls_om     dfl_om     box_oo     cls_oo     dfl_oo  Instances       Size\n",
      "      22/45         0G     0.5427     0.9121      1.094     0.6134     0.9373   \n",
      "                 Class     Images  Instances      Box(P          R      mAP50  m\n",
      "                   all         45         44      0.539      0.851      0.697      0.523\n",
      "\n",
      "      Epoch    GPU_mem     box_om     cls_om     dfl_om     box_oo     cls_oo     dfl_oo  Instances       Size\n",
      "      23/45         0G     0.5264     0.9081      1.083     0.5909     0.9242   \n",
      "                 Class     Images  Instances      Box(P          R      mAP50  m\n",
      "                   all         45         44      0.502      0.899       0.61       0.46\n",
      "\n",
      "      Epoch    GPU_mem     box_om     cls_om     dfl_om     box_oo     cls_oo     dfl_oo  Instances       Size\n",
      "      24/45         0G     0.5212     0.8449      1.081     0.5853     0.8555   \n",
      "                 Class     Images  Instances      Box(P          R      mAP50  m\n",
      "                   all         45         44      0.438      0.975      0.595      0.462\n",
      "\n",
      "      Epoch    GPU_mem     box_om     cls_om     dfl_om     box_oo     cls_oo     dfl_oo  Instances       Size\n",
      "      25/45         0G     0.5222     0.8772       1.09     0.5829      0.889   \n",
      "                 Class     Images  Instances      Box(P          R      mAP50  m\n",
      "                   all         45         44      0.531      0.993      0.738       0.57\n",
      "\n",
      "      Epoch    GPU_mem     box_om     cls_om     dfl_om     box_oo     cls_oo     dfl_oo  Instances       Size\n",
      "      26/45         0G     0.5062     0.8754      1.077     0.5758     0.8942   \n",
      "                 Class     Images  Instances      Box(P          R      mAP50  m\n",
      "                   all         45         44      0.541      0.797      0.651      0.498\n",
      "\n",
      "      Epoch    GPU_mem     box_om     cls_om     dfl_om     box_oo     cls_oo     dfl_oo  Instances       Size\n",
      "      27/45         0G     0.5009     0.8533      1.066     0.5568     0.8639   \n",
      "                 Class     Images  Instances      Box(P          R      mAP50  m\n",
      "                   all         45         44      0.499      0.607      0.631      0.483\n",
      "\n",
      "      Epoch    GPU_mem     box_om     cls_om     dfl_om     box_oo     cls_oo     dfl_oo  Instances       Size\n",
      "      28/45         0G     0.5257     0.8473      1.085     0.5859     0.8588   \n",
      "                 Class     Images  Instances      Box(P          R      mAP50  m\n",
      "                   all         45         44      0.586      0.789      0.704      0.529\n",
      "\n",
      "      Epoch    GPU_mem     box_om     cls_om     dfl_om     box_oo     cls_oo     dfl_oo  Instances       Size\n",
      "      29/45         0G     0.4951     0.8337      1.068     0.5513     0.8472   \n",
      "                 Class     Images  Instances      Box(P          R      mAP50  m\n",
      "                   all         45         44      0.472      0.727      0.595      0.467\n",
      "\n",
      "      Epoch    GPU_mem     box_om     cls_om     dfl_om     box_oo     cls_oo     dfl_oo  Instances       Size\n",
      "      30/45         0G     0.4999     0.8433      1.081     0.5623     0.8416   \n",
      "                 Class     Images  Instances      Box(P          R      mAP50  m\n",
      "                   all         45         44      0.574      0.827      0.726       0.56\n",
      "\n",
      "      Epoch    GPU_mem     box_om     cls_om     dfl_om     box_oo     cls_oo     dfl_oo  Instances       Size\n",
      "      31/45         0G     0.4993     0.8267      1.079     0.5652     0.8324   \n",
      "                 Class     Images  Instances      Box(P          R      mAP50  m\n",
      "                   all         45         44      0.443      0.798      0.604      0.458\n",
      "\n",
      "      Epoch    GPU_mem     box_om     cls_om     dfl_om     box_oo     cls_oo     dfl_oo  Instances       Size\n",
      "      32/45         0G     0.4711     0.7743      1.059     0.5278     0.7718   \n",
      "                 Class     Images  Instances      Box(P          R      mAP50  m\n",
      "                   all         45         44      0.656      0.836      0.756      0.573\n",
      "\n",
      "      Epoch    GPU_mem     box_om     cls_om     dfl_om     box_oo     cls_oo     dfl_oo  Instances       Size\n",
      "      33/45         0G     0.4788     0.7628      1.056     0.5379     0.7621   \n",
      "                 Class     Images  Instances      Box(P          R      mAP50  m\n",
      "                   all         45         44      0.511      0.823      0.631      0.468\n",
      "\n",
      "      Epoch    GPU_mem     box_om     cls_om     dfl_om     box_oo     cls_oo     dfl_oo  Instances       Size\n",
      "      34/45         0G     0.4728     0.7946      1.057     0.5219     0.8034   \n",
      "Traceback (most recent call last):\n",
      "  File \"/opt/anaconda3/bin/yolo\", line 8, in <module>\n",
      "    sys.exit(entrypoint())\n",
      "             ^^^^^^^^^^^^\n",
      "  File \"/opt/anaconda3/lib/python3.11/site-packages/ultralytics/cfg/__init__.py\", line 594, in entrypoint\n",
      "    getattr(model, mode)(**overrides)  # default args from model\n",
      "    ^^^^^^^^^^^^^^^^^^^^^^^^^^^^^^^^^\n",
      "  File \"/opt/anaconda3/lib/python3.11/site-packages/ultralytics/engine/model.py\", line 657, in train\n",
      "    self.trainer.train()\n",
      "  File \"/opt/anaconda3/lib/python3.11/site-packages/ultralytics/engine/trainer.py\", line 213, in train\n",
      "    self._do_train(world_size)\n",
      "  File \"/opt/anaconda3/lib/python3.11/site-packages/ultralytics/engine/trainer.py\", line 381, in _do_train\n",
      "    self.loss, self.loss_items = self.model(batch)\n",
      "                                 ^^^^^^^^^^^^^^^^^\n",
      "  File \"/opt/anaconda3/lib/python3.11/site-packages/torch/nn/modules/module.py\", line 1532, in _wrapped_call_impl\n",
      "    return self._call_impl(*args, **kwargs)\n",
      "           ^^^^^^^^^^^^^^^^^^^^^^^^^^^^^^^^\n",
      "  File \"/opt/anaconda3/lib/python3.11/site-packages/torch/nn/modules/module.py\", line 1541, in _call_impl\n",
      "    return forward_call(*args, **kwargs)\n",
      "           ^^^^^^^^^^^^^^^^^^^^^^^^^^^^^\n",
      "  File \"/opt/anaconda3/lib/python3.11/site-packages/ultralytics/nn/tasks.py\", line 93, in forward\n",
      "    return self.loss(x, *args, **kwargs)\n",
      "           ^^^^^^^^^^^^^^^^^^^^^^^^^^^^^\n",
      "  File \"/opt/anaconda3/lib/python3.11/site-packages/ultralytics/nn/tasks.py\", line 274, in loss\n",
      "    preds = self.forward(batch[\"img\"]) if preds is None else preds\n",
      "            ^^^^^^^^^^^^^^^^^^^^^^^^^^\n",
      "  File \"/opt/anaconda3/lib/python3.11/site-packages/ultralytics/nn/tasks.py\", line 94, in forward\n",
      "    return self.predict(x, *args, **kwargs)\n",
      "           ^^^^^^^^^^^^^^^^^^^^^^^^^^^^^^^^\n",
      "  File \"/opt/anaconda3/lib/python3.11/site-packages/ultralytics/nn/tasks.py\", line 112, in predict\n",
      "    return self._predict_once(x, profile, visualize, embed)\n",
      "           ^^^^^^^^^^^^^^^^^^^^^^^^^^^^^^^^^^^^^^^^^^^^^^^^\n",
      "  File \"/opt/anaconda3/lib/python3.11/site-packages/ultralytics/nn/tasks.py\", line 133, in _predict_once\n",
      "    x = m(x)  # run\n",
      "        ^^^^\n",
      "  File \"/opt/anaconda3/lib/python3.11/site-packages/torch/nn/modules/module.py\", line 1532, in _wrapped_call_impl\n",
      "    return self._call_impl(*args, **kwargs)\n",
      "           ^^^^^^^^^^^^^^^^^^^^^^^^^^^^^^^^\n",
      "  File \"/opt/anaconda3/lib/python3.11/site-packages/torch/nn/modules/module.py\", line 1541, in _call_impl\n",
      "    return forward_call(*args, **kwargs)\n",
      "           ^^^^^^^^^^^^^^^^^^^^^^^^^^^^^\n",
      "  File \"/opt/anaconda3/lib/python3.11/site-packages/ultralytics/nn/modules/conv.py\", line 50, in forward\n",
      "    return self.act(self.bn(self.conv(x)))\n",
      "           ^^^^^^^^^^^^^^^^^^^^^^^^^^^^^^^\n",
      "  File \"/opt/anaconda3/lib/python3.11/site-packages/torch/nn/modules/module.py\", line 1532, in _wrapped_call_impl\n",
      "    return self._call_impl(*args, **kwargs)\n",
      "           ^^^^^^^^^^^^^^^^^^^^^^^^^^^^^^^^\n",
      "  File \"/opt/anaconda3/lib/python3.11/site-packages/torch/nn/modules/module.py\", line 1541, in _call_impl\n",
      "    return forward_call(*args, **kwargs)\n",
      "           ^^^^^^^^^^^^^^^^^^^^^^^^^^^^^\n",
      "  File \"/opt/anaconda3/lib/python3.11/site-packages/torch/nn/modules/activation.py\", line 396, in forward\n",
      "    return F.silu(input, inplace=self.inplace)\n",
      "           ^^^^^^^^^^^^^^^^^^^^^^^^^^^^^^^^^^^\n",
      "  File \"/opt/anaconda3/lib/python3.11/site-packages/torch/nn/functional.py\", line 2101, in silu\n",
      "    return torch._C._nn.silu_(input)\n",
      "           ^^^^^^^^^^^^^^^^^^^^^^^^^\n",
      "RuntimeError: MPS backend out of memory (MPS allocated: 3.29 GB, other allocations: 14.80 GB, max allowed: 18.13 GB). Tried to allocate 50.00 MB on private pool. Use PYTORCH_MPS_HIGH_WATERMARK_RATIO=0.0 to disable upper limit for memory allocations (may cause system failure).\n"
     ]
    }
   ],
   "source": [
    "import torch\n",
    "\n",
    "# Check if MPS is available and set the device accordingly\n",
    "device = torch.device(\"mps\") if torch.backends.mps.is_available() else torch.device(\"cpu\")\n",
    "print(f\"Using device: {device}\")\n",
    "\n",
    "# Ensure you have the correct yolo command\n",
    "!yolo task=detect mode=train epochs=45 batch=8 plots=True model=weights/yolov10n.pt data=data.yaml device={device}"
   ]
  },
  {
   "cell_type": "code",
   "execution_count": null,
   "id": "9d354f1c",
   "metadata": {},
   "outputs": [
    {
     "name": "stdout",
     "output_type": "stream",
     "text": [
      "Collecting ultralytics\n",
      "  Downloading ultralytics-8.3.5-py3-none-any.whl.metadata (34 kB)\n",
      "Requirement already satisfied: numpy>=1.23.0 in /opt/miniconda3/envs/torch/lib/python3.11/site-packages (from ultralytics) (1.26.4)\n",
      "Requirement already satisfied: matplotlib>=3.3.0 in /opt/miniconda3/envs/torch/lib/python3.11/site-packages (from ultralytics) (3.8.4)\n",
      "Collecting opencv-python>=4.6.0 (from ultralytics)\n",
      "  Using cached opencv_python-4.10.0.84-cp37-abi3-macosx_11_0_arm64.whl.metadata (20 kB)\n",
      "Requirement already satisfied: pillow>=7.1.2 in /opt/miniconda3/envs/torch/lib/python3.11/site-packages (from ultralytics) (10.3.0)\n",
      "Requirement already satisfied: pyyaml>=5.3.1 in /opt/miniconda3/envs/torch/lib/python3.11/site-packages (from ultralytics) (6.0.1)\n",
      "Requirement already satisfied: requests>=2.23.0 in /opt/miniconda3/envs/torch/lib/python3.11/site-packages (from ultralytics) (2.31.0)\n",
      "Requirement already satisfied: scipy>=1.4.1 in /opt/miniconda3/envs/torch/lib/python3.11/site-packages (from ultralytics) (1.13.0)\n",
      "Requirement already satisfied: torch>=1.8.0 in /opt/miniconda3/envs/torch/lib/python3.11/site-packages (from ultralytics) (2.3.0)\n",
      "Requirement already satisfied: torchvision>=0.9.0 in /opt/miniconda3/envs/torch/lib/python3.11/site-packages (from ultralytics) (0.18.0)\n",
      "Requirement already satisfied: tqdm>=4.64.0 in /opt/miniconda3/envs/torch/lib/python3.11/site-packages (from ultralytics) (4.66.2)\n",
      "Requirement already satisfied: psutil in /opt/miniconda3/envs/torch/lib/python3.11/site-packages (from ultralytics) (5.9.8)\n",
      "Collecting py-cpuinfo (from ultralytics)\n",
      "  Using cached py_cpuinfo-9.0.0-py3-none-any.whl.metadata (794 bytes)\n",
      "Requirement already satisfied: pandas>=1.1.4 in /opt/miniconda3/envs/torch/lib/python3.11/site-packages (from ultralytics) (2.2.2)\n",
      "Collecting seaborn>=0.11.0 (from ultralytics)\n",
      "  Using cached seaborn-0.13.2-py3-none-any.whl.metadata (5.4 kB)\n",
      "Collecting ultralytics-thop>=2.0.0 (from ultralytics)\n",
      "  Downloading ultralytics_thop-2.0.8-py3-none-any.whl.metadata (9.3 kB)\n",
      "Requirement already satisfied: contourpy>=1.0.1 in /opt/miniconda3/envs/torch/lib/python3.11/site-packages (from matplotlib>=3.3.0->ultralytics) (1.2.1)\n",
      "Requirement already satisfied: cycler>=0.10 in /opt/miniconda3/envs/torch/lib/python3.11/site-packages (from matplotlib>=3.3.0->ultralytics) (0.12.1)\n",
      "Requirement already satisfied: fonttools>=4.22.0 in /opt/miniconda3/envs/torch/lib/python3.11/site-packages (from matplotlib>=3.3.0->ultralytics) (4.51.0)\n",
      "Requirement already satisfied: kiwisolver>=1.3.1 in /opt/miniconda3/envs/torch/lib/python3.11/site-packages (from matplotlib>=3.3.0->ultralytics) (1.4.5)\n",
      "Requirement already satisfied: packaging>=20.0 in /opt/miniconda3/envs/torch/lib/python3.11/site-packages (from matplotlib>=3.3.0->ultralytics) (24.0)\n",
      "Requirement already satisfied: pyparsing>=2.3.1 in /opt/miniconda3/envs/torch/lib/python3.11/site-packages (from matplotlib>=3.3.0->ultralytics) (3.1.2)\n",
      "Requirement already satisfied: python-dateutil>=2.7 in /opt/miniconda3/envs/torch/lib/python3.11/site-packages (from matplotlib>=3.3.0->ultralytics) (2.9.0)\n",
      "Requirement already satisfied: pytz>=2020.1 in /opt/miniconda3/envs/torch/lib/python3.11/site-packages (from pandas>=1.1.4->ultralytics) (2024.1)\n",
      "Requirement already satisfied: tzdata>=2022.7 in /opt/miniconda3/envs/torch/lib/python3.11/site-packages (from pandas>=1.1.4->ultralytics) (2024.1)\n",
      "Requirement already satisfied: charset-normalizer<4,>=2 in /opt/miniconda3/envs/torch/lib/python3.11/site-packages (from requests>=2.23.0->ultralytics) (3.3.2)\n",
      "Requirement already satisfied: idna<4,>=2.5 in /opt/miniconda3/envs/torch/lib/python3.11/site-packages (from requests>=2.23.0->ultralytics) (3.7)\n",
      "Requirement already satisfied: urllib3<3,>=1.21.1 in /opt/miniconda3/envs/torch/lib/python3.11/site-packages (from requests>=2.23.0->ultralytics) (2.2.1)\n",
      "Requirement already satisfied: certifi>=2017.4.17 in /opt/miniconda3/envs/torch/lib/python3.11/site-packages (from requests>=2.23.0->ultralytics) (2024.2.2)\n",
      "Requirement already satisfied: filelock in /opt/miniconda3/envs/torch/lib/python3.11/site-packages (from torch>=1.8.0->ultralytics) (3.13.4)\n",
      "Requirement already satisfied: typing-extensions>=4.8.0 in /opt/miniconda3/envs/torch/lib/python3.11/site-packages (from torch>=1.8.0->ultralytics) (4.11.0)\n",
      "Requirement already satisfied: sympy in /opt/miniconda3/envs/torch/lib/python3.11/site-packages (from torch>=1.8.0->ultralytics) (1.12)\n",
      "Requirement already satisfied: networkx in /opt/miniconda3/envs/torch/lib/python3.11/site-packages (from torch>=1.8.0->ultralytics) (3.3)\n",
      "Requirement already satisfied: jinja2 in /opt/miniconda3/envs/torch/lib/python3.11/site-packages (from torch>=1.8.0->ultralytics) (3.1.3)\n",
      "Collecting fsspec (from torch>=1.8.0->ultralytics)\n",
      "  Using cached fsspec-2024.9.0-py3-none-any.whl.metadata (11 kB)\n",
      "Requirement already satisfied: six>=1.5 in /opt/miniconda3/envs/torch/lib/python3.11/site-packages (from python-dateutil>=2.7->matplotlib>=3.3.0->ultralytics) (1.16.0)\n",
      "Requirement already satisfied: MarkupSafe>=2.0 in /opt/miniconda3/envs/torch/lib/python3.11/site-packages (from jinja2->torch>=1.8.0->ultralytics) (2.1.5)\n",
      "Requirement already satisfied: mpmath>=0.19 in /opt/miniconda3/envs/torch/lib/python3.11/site-packages (from sympy->torch>=1.8.0->ultralytics) (1.3.0)\n",
      "Downloading ultralytics-8.3.5-py3-none-any.whl (882 kB)\n",
      "\u001b[2K   \u001b[90m━━━━━━━━━━━━━━━━━━━━━━━━━━━━━━━━━━━━━━━━\u001b[0m \u001b[32m882.8/882.8 kB\u001b[0m \u001b[31m13.7 MB/s\u001b[0m eta \u001b[36m0:00:00\u001b[0ma \u001b[36m0:00:01\u001b[0m\n",
      "\u001b[?25hUsing cached opencv_python-4.10.0.84-cp37-abi3-macosx_11_0_arm64.whl (54.8 MB)\n",
      "Using cached seaborn-0.13.2-py3-none-any.whl (294 kB)\n",
      "Downloading ultralytics_thop-2.0.8-py3-none-any.whl (26 kB)\n",
      "Using cached py_cpuinfo-9.0.0-py3-none-any.whl (22 kB)\n",
      "Using cached fsspec-2024.9.0-py3-none-any.whl (179 kB)\n",
      "Installing collected packages: py-cpuinfo, opencv-python, fsspec, ultralytics-thop, seaborn, ultralytics\n",
      "Successfully installed fsspec-2024.9.0 opencv-python-4.10.0.84 py-cpuinfo-9.0.0 seaborn-0.13.2 ultralytics-8.3.5 ultralytics-thop-2.0.8\n"
     ]
    }
   ],
   "source": [
    "!pip install ultralytics --upgrade"
   ]
  },
  {
   "cell_type": "code",
   "execution_count": null,
   "id": "f3ad8fd0",
   "metadata": {},
   "outputs": [
    {
     "name": "stdout",
     "output_type": "stream",
     "text": [
      "Ultralytics 8.3.5 🚀 Python-3.11.9 torch-2.3.0 CPU (Apple M1 Pro)\n",
      "YOLOv10n summary (fused): 285 layers, 2,695,976 parameters, 0 gradients, 8.2 GFLOPs\n",
      "\n",
      "video 1/1 (frame 1/73) /Users/tanjiunkoon/Downloads/Others/Finalized yolov10/app/IMG_3809.mov: 384x640 1 Grade B Birdnest, 85.5ms\n",
      "video 1/1 (frame 2/73) /Users/tanjiunkoon/Downloads/Others/Finalized yolov10/app/IMG_3809.mov: 384x640 1 Grade B Birdnest, 1 Grade C Birdnest, 89.9ms\n",
      "video 1/1 (frame 3/73) /Users/tanjiunkoon/Downloads/Others/Finalized yolov10/app/IMG_3809.mov: 384x640 1 Grade B Birdnest, 1 Grade C Birdnest, 81.5ms\n",
      "video 1/1 (frame 4/73) /Users/tanjiunkoon/Downloads/Others/Finalized yolov10/app/IMG_3809.mov: 384x640 1 Grade B Birdnest, 1 Grade C Birdnest, 82.3ms\n",
      "video 1/1 (frame 5/73) /Users/tanjiunkoon/Downloads/Others/Finalized yolov10/app/IMG_3809.mov: 384x640 1 Grade B Birdnest, 1 Grade C Birdnest, 78.8ms\n",
      "video 1/1 (frame 6/73) /Users/tanjiunkoon/Downloads/Others/Finalized yolov10/app/IMG_3809.mov: 384x640 2 Grade B Birdnests, 1 Grade C Birdnest, 80.5ms\n",
      "video 1/1 (frame 7/73) /Users/tanjiunkoon/Downloads/Others/Finalized yolov10/app/IMG_3809.mov: 384x640 1 Grade B Birdnest, 1 Grade C Birdnest, 89.8ms\n",
      "video 1/1 (frame 8/73) /Users/tanjiunkoon/Downloads/Others/Finalized yolov10/app/IMG_3809.mov: 384x640 1 Grade B Birdnest, 1 Grade C Birdnest, 89.0ms\n",
      "video 1/1 (frame 9/73) /Users/tanjiunkoon/Downloads/Others/Finalized yolov10/app/IMG_3809.mov: 384x640 1 Grade B Birdnest, 1 Grade C Birdnest, 80.3ms\n",
      "video 1/1 (frame 10/73) /Users/tanjiunkoon/Downloads/Others/Finalized yolov10/app/IMG_3809.mov: 384x640 2 Grade B Birdnests, 1 Grade C Birdnest, 81.6ms\n",
      "video 1/1 (frame 11/73) /Users/tanjiunkoon/Downloads/Others/Finalized yolov10/app/IMG_3809.mov: 384x640 2 Grade B Birdnests, 84.2ms\n",
      "video 1/1 (frame 12/73) /Users/tanjiunkoon/Downloads/Others/Finalized yolov10/app/IMG_3809.mov: 384x640 1 Grade B Birdnest, 82.4ms\n",
      "video 1/1 (frame 13/73) /Users/tanjiunkoon/Downloads/Others/Finalized yolov10/app/IMG_3809.mov: 384x640 2 Grade B Birdnests, 82.8ms\n",
      "video 1/1 (frame 14/73) /Users/tanjiunkoon/Downloads/Others/Finalized yolov10/app/IMG_3809.mov: 384x640 3 Grade B Birdnests, 78.3ms\n",
      "video 1/1 (frame 15/73) /Users/tanjiunkoon/Downloads/Others/Finalized yolov10/app/IMG_3809.mov: 384x640 2 Grade B Birdnests, 82.1ms\n",
      "video 1/1 (frame 16/73) /Users/tanjiunkoon/Downloads/Others/Finalized yolov10/app/IMG_3809.mov: 384x640 2 Grade B Birdnests, 81.9ms\n",
      "video 1/1 (frame 17/73) /Users/tanjiunkoon/Downloads/Others/Finalized yolov10/app/IMG_3809.mov: 384x640 2 Grade B Birdnests, 89.5ms\n",
      "video 1/1 (frame 18/73) /Users/tanjiunkoon/Downloads/Others/Finalized yolov10/app/IMG_3809.mov: 384x640 2 Grade B Birdnests, 79.0ms\n",
      "video 1/1 (frame 19/73) /Users/tanjiunkoon/Downloads/Others/Finalized yolov10/app/IMG_3809.mov: 384x640 2 Grade B Birdnests, 81.7ms\n",
      "video 1/1 (frame 20/73) /Users/tanjiunkoon/Downloads/Others/Finalized yolov10/app/IMG_3809.mov: 384x640 1 Grade B Birdnest, 114.3ms\n",
      "video 1/1 (frame 21/73) /Users/tanjiunkoon/Downloads/Others/Finalized yolov10/app/IMG_3809.mov: 384x640 2 Grade B Birdnests, 1 Grade C Birdnest, 80.9ms\n",
      "video 1/1 (frame 22/73) /Users/tanjiunkoon/Downloads/Others/Finalized yolov10/app/IMG_3809.mov: 384x640 2 Grade B Birdnests, 78.7ms\n",
      "video 1/1 (frame 23/73) /Users/tanjiunkoon/Downloads/Others/Finalized yolov10/app/IMG_3809.mov: 384x640 2 Grade B Birdnests, 79.5ms\n",
      "video 1/1 (frame 24/73) /Users/tanjiunkoon/Downloads/Others/Finalized yolov10/app/IMG_3809.mov: 384x640 2 Grade B Birdnests, 1 Grade C Birdnest, 83.0ms\n",
      "video 1/1 (frame 25/73) /Users/tanjiunkoon/Downloads/Others/Finalized yolov10/app/IMG_3809.mov: 384x640 2 Grade B Birdnests, 1 Grade C Birdnest, 76.1ms\n",
      "video 1/1 (frame 26/73) /Users/tanjiunkoon/Downloads/Others/Finalized yolov10/app/IMG_3809.mov: 384x640 2 Grade B Birdnests, 77.5ms\n",
      "video 1/1 (frame 27/73) /Users/tanjiunkoon/Downloads/Others/Finalized yolov10/app/IMG_3809.mov: 384x640 2 Grade B Birdnests, 75.3ms\n",
      "video 1/1 (frame 28/73) /Users/tanjiunkoon/Downloads/Others/Finalized yolov10/app/IMG_3809.mov: 384x640 2 Grade B Birdnests, 77.5ms\n",
      "video 1/1 (frame 29/73) /Users/tanjiunkoon/Downloads/Others/Finalized yolov10/app/IMG_3809.mov: 384x640 2 Grade B Birdnests, 77.1ms\n",
      "video 1/1 (frame 30/73) /Users/tanjiunkoon/Downloads/Others/Finalized yolov10/app/IMG_3809.mov: 384x640 2 Grade B Birdnests, 77.7ms\n",
      "video 1/1 (frame 31/73) /Users/tanjiunkoon/Downloads/Others/Finalized yolov10/app/IMG_3809.mov: 384x640 2 Grade B Birdnests, 82.9ms\n",
      "video 1/1 (frame 32/73) /Users/tanjiunkoon/Downloads/Others/Finalized yolov10/app/IMG_3809.mov: 384x640 2 Grade B Birdnests, 78.2ms\n",
      "video 1/1 (frame 33/73) /Users/tanjiunkoon/Downloads/Others/Finalized yolov10/app/IMG_3809.mov: 384x640 2 Grade B Birdnests, 1 Grade C Birdnest, 75.8ms\n",
      "video 1/1 (frame 34/73) /Users/tanjiunkoon/Downloads/Others/Finalized yolov10/app/IMG_3809.mov: 384x640 2 Grade B Birdnests, 1 Grade C Birdnest, 75.6ms\n",
      "video 1/1 (frame 35/73) /Users/tanjiunkoon/Downloads/Others/Finalized yolov10/app/IMG_3809.mov: 384x640 2 Grade B Birdnests, 1 Grade C Birdnest, 77.0ms\n",
      "video 1/1 (frame 36/73) /Users/tanjiunkoon/Downloads/Others/Finalized yolov10/app/IMG_3809.mov: 384x640 1 Grade B Birdnest, 1 Grade C Birdnest, 77.0ms\n",
      "video 1/1 (frame 37/73) /Users/tanjiunkoon/Downloads/Others/Finalized yolov10/app/IMG_3809.mov: 384x640 2 Grade B Birdnests, 1 Grade C Birdnest, 74.0ms\n",
      "video 1/1 (frame 38/73) /Users/tanjiunkoon/Downloads/Others/Finalized yolov10/app/IMG_3809.mov: 384x640 1 Grade B Birdnest, 1 Grade C Birdnest, 77.1ms\n",
      "video 1/1 (frame 39/73) /Users/tanjiunkoon/Downloads/Others/Finalized yolov10/app/IMG_3809.mov: 384x640 2 Grade B Birdnests, 82.2ms\n",
      "video 1/1 (frame 40/73) /Users/tanjiunkoon/Downloads/Others/Finalized yolov10/app/IMG_3809.mov: 384x640 2 Grade B Birdnests, 77.3ms\n",
      "video 1/1 (frame 41/73) /Users/tanjiunkoon/Downloads/Others/Finalized yolov10/app/IMG_3809.mov: 384x640 2 Grade B Birdnests, 74.9ms\n",
      "video 1/1 (frame 42/73) /Users/tanjiunkoon/Downloads/Others/Finalized yolov10/app/IMG_3809.mov: 384x640 2 Grade B Birdnests, 75.4ms\n",
      "video 1/1 (frame 43/73) /Users/tanjiunkoon/Downloads/Others/Finalized yolov10/app/IMG_3809.mov: 384x640 2 Grade B Birdnests, 88.7ms\n",
      "video 1/1 (frame 44/73) /Users/tanjiunkoon/Downloads/Others/Finalized yolov10/app/IMG_3809.mov: 384x640 2 Grade B Birdnests, 87.4ms\n",
      "video 1/1 (frame 45/73) /Users/tanjiunkoon/Downloads/Others/Finalized yolov10/app/IMG_3809.mov: 384x640 2 Grade B Birdnests, 77.0ms\n",
      "video 1/1 (frame 46/73) /Users/tanjiunkoon/Downloads/Others/Finalized yolov10/app/IMG_3809.mov: 384x640 2 Grade B Birdnests, 76.6ms\n",
      "video 1/1 (frame 47/73) /Users/tanjiunkoon/Downloads/Others/Finalized yolov10/app/IMG_3809.mov: 384x640 2 Grade B Birdnests, 78.5ms\n",
      "video 1/1 (frame 48/73) /Users/tanjiunkoon/Downloads/Others/Finalized yolov10/app/IMG_3809.mov: 384x640 2 Grade B Birdnests, 75.3ms\n",
      "video 1/1 (frame 49/73) /Users/tanjiunkoon/Downloads/Others/Finalized yolov10/app/IMG_3809.mov: 384x640 1 Grade B Birdnest, 79.7ms\n",
      "video 1/1 (frame 50/73) /Users/tanjiunkoon/Downloads/Others/Finalized yolov10/app/IMG_3809.mov: 384x640 2 Grade B Birdnests, 79.8ms\n",
      "video 1/1 (frame 51/73) /Users/tanjiunkoon/Downloads/Others/Finalized yolov10/app/IMG_3809.mov: 384x640 2 Grade B Birdnests, 1 Grade C Birdnest, 84.5ms\n",
      "video 1/1 (frame 52/73) /Users/tanjiunkoon/Downloads/Others/Finalized yolov10/app/IMG_3809.mov: 384x640 1 Grade B Birdnest, 77.3ms\n",
      "video 1/1 (frame 53/73) /Users/tanjiunkoon/Downloads/Others/Finalized yolov10/app/IMG_3809.mov: 384x640 2 Grade B Birdnests, 1 Grade C Birdnest, 85.3ms\n",
      "video 1/1 (frame 54/73) /Users/tanjiunkoon/Downloads/Others/Finalized yolov10/app/IMG_3809.mov: 384x640 2 Grade B Birdnests, 75.7ms\n",
      "video 1/1 (frame 55/73) /Users/tanjiunkoon/Downloads/Others/Finalized yolov10/app/IMG_3809.mov: 384x640 3 Grade B Birdnests, 77.3ms\n",
      "video 1/1 (frame 56/73) /Users/tanjiunkoon/Downloads/Others/Finalized yolov10/app/IMG_3809.mov: 384x640 2 Grade B Birdnests, 78.9ms\n",
      "video 1/1 (frame 57/73) /Users/tanjiunkoon/Downloads/Others/Finalized yolov10/app/IMG_3809.mov: 384x640 1 Grade B Birdnest, 82.9ms\n",
      "video 1/1 (frame 58/73) /Users/tanjiunkoon/Downloads/Others/Finalized yolov10/app/IMG_3809.mov: 384x640 2 Grade B Birdnests, 1 Grade C Birdnest, 86.0ms\n",
      "video 1/1 (frame 59/73) /Users/tanjiunkoon/Downloads/Others/Finalized yolov10/app/IMG_3809.mov: 384x640 2 Grade B Birdnests, 79.3ms\n",
      "video 1/1 (frame 60/73) /Users/tanjiunkoon/Downloads/Others/Finalized yolov10/app/IMG_3809.mov: 384x640 2 Grade B Birdnests, 78.2ms\n",
      "video 1/1 (frame 61/73) /Users/tanjiunkoon/Downloads/Others/Finalized yolov10/app/IMG_3809.mov: 384x640 2 Grade B Birdnests, 77.0ms\n",
      "video 1/1 (frame 62/73) /Users/tanjiunkoon/Downloads/Others/Finalized yolov10/app/IMG_3809.mov: 384x640 2 Grade B Birdnests, 80.5ms\n",
      "video 1/1 (frame 63/73) /Users/tanjiunkoon/Downloads/Others/Finalized yolov10/app/IMG_3809.mov: 384x640 2 Grade B Birdnests, 126.1ms\n",
      "video 1/1 (frame 64/73) /Users/tanjiunkoon/Downloads/Others/Finalized yolov10/app/IMG_3809.mov: 384x640 2 Grade B Birdnests, 80.1ms\n",
      "video 1/1 (frame 65/73) /Users/tanjiunkoon/Downloads/Others/Finalized yolov10/app/IMG_3809.mov: 384x640 2 Grade B Birdnests, 78.8ms\n",
      "video 1/1 (frame 66/73) /Users/tanjiunkoon/Downloads/Others/Finalized yolov10/app/IMG_3809.mov: 384x640 2 Grade B Birdnests, 79.3ms\n",
      "video 1/1 (frame 67/73) /Users/tanjiunkoon/Downloads/Others/Finalized yolov10/app/IMG_3809.mov: 384x640 1 Grade B Birdnest, 78.0ms\n",
      "video 1/1 (frame 68/73) /Users/tanjiunkoon/Downloads/Others/Finalized yolov10/app/IMG_3809.mov: 384x640 2 Grade B Birdnests, 75.7ms\n",
      "video 1/1 (frame 69/73) /Users/tanjiunkoon/Downloads/Others/Finalized yolov10/app/IMG_3809.mov: 384x640 1 Grade B Birdnest, 76.1ms\n",
      "video 1/1 (frame 70/73) /Users/tanjiunkoon/Downloads/Others/Finalized yolov10/app/IMG_3809.mov: 384x640 2 Grade B Birdnests, 79.1ms\n",
      "video 1/1 (frame 71/73) /Users/tanjiunkoon/Downloads/Others/Finalized yolov10/app/IMG_3809.mov: 384x640 2 Grade B Birdnests, 1 Grade C Birdnest, 114.2ms\n",
      "video 1/1 (frame 72/73) /Users/tanjiunkoon/Downloads/Others/Finalized yolov10/app/IMG_3809.mov: 384x640 1 Grade B Birdnest, 83.3ms\n",
      "video 1/1 (frame 73/73) /Users/tanjiunkoon/Downloads/Others/Finalized yolov10/app/IMG_3809.mov: 384x640 2 Grade B Birdnests, 80.8ms\n",
      "Speed: 1.8ms preprocess, 81.7ms inference, 0.2ms postprocess per image at shape (1, 3, 384, 640)\n",
      "Results saved to \u001b[1mruns/detect/predict17\u001b[0m\n",
      "💡 Learn more at https://docs.ultralytics.com/modes/predict\n"
     ]
    }
   ],
   "source": [
    "!yolo task=detect mode=predict conf=0.25 save=True model=previous_best.pt source=IMG_3809.mov"
   ]
  }
 ],
 "metadata": {
  "kernelspec": {
   "display_name": "Python 3.11 (torch)",
   "language": "python",
   "name": "pytorch"
  },
  "language_info": {
   "codemirror_mode": {
    "name": "ipython",
    "version": 3
   },
   "file_extension": ".py",
   "mimetype": "text/x-python",
   "name": "python",
   "nbconvert_exporter": "python",
   "pygments_lexer": "ipython3",
   "version": "3.11.9"
  }
 },
 "nbformat": 4,
 "nbformat_minor": 5
}
